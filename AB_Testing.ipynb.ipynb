{
 "cells": [
  {
   "cell_type": "markdown",
   "metadata": {},
   "source": [
    "## A/B Testing in E-commerce"
   ]
  },
  {
   "cell_type": "markdown",
   "metadata": {},
   "source": [
    "Author: CHENG CHEN <br/>\n",
    "LinkedIn: https://www.linkedin.com/in/chengchen-jimmy<br/>\n",
    "Date: 06/30/2018<br/>\n",
    "\n",
    "This is a A/B testing tutorial. I will go through a basic A/B testing problem in the e-commerce field. The data comes from BitTiger. Please indicate the source if sharing. \n",
    "\n",
    "If you would like to give any suggestion or correct any field, I could be reached at cheng.chen.2017@marshall.usc.edu. It will be very helpful! Thanks beforehand!"
   ]
  },
  {
   "cell_type": "markdown",
   "metadata": {},
   "source": [
    "### Business Background & Questions\n",
    "\n",
    "This data shows user's activities on a online sales website.  \n",
    " \n",
    "An experiment was launched on day 4 with a goal to increase users' click through rate (clicks/views) and total revenue. \n",
    " \n",
    "Note: first 3 days no experiment, 4th-14th days experiment running \n",
    " \n",
    "Analyze the data and write a report to answer the following questions: \n",
    "\n",
    "1. Is the experiment correct? Please note any problems in your report. \n",
    "\n",
    "2. Did the test version help increase CTR and total revenue? Help the team make the right decisions. \n",
    "\n",
    "3. There might be learning effect for users to get used to the change. Help the team understand this."
   ]
  },
  {
   "cell_type": "markdown",
   "metadata": {},
   "source": [
    "### 1. Import the Dataset"
   ]
  },
  {
   "cell_type": "code",
   "execution_count": 1,
   "metadata": {},
   "outputs": [],
   "source": [
    "# from pip._internal import main\n",
    "# main(['install', 'pandasql'])"
   ]
  },
  {
   "cell_type": "code",
   "execution_count": 3,
   "metadata": {},
   "outputs": [
    {
     "name": "stdout",
     "output_type": "stream",
     "text": [
      "/Library/Frameworks/Python.framework/Versions/3.7/bin/python3\r\n"
     ]
    }
   ],
   "source": [
    "!which python3"
   ]
  },
  {
   "cell_type": "code",
   "execution_count": 5,
   "metadata": {},
   "outputs": [
    {
     "name": "stdout",
     "output_type": "stream",
     "text": [
      "/usr/local/bin/python\r\n"
     ]
    }
   ],
   "source": [
    "!which python"
   ]
  },
  {
   "cell_type": "code",
   "execution_count": 7,
   "metadata": {},
   "outputs": [
    {
     "name": "stdout",
     "output_type": "stream",
     "text": [
      "Collecting pandasql\n",
      "  Using cached https://files.pythonhosted.org/packages/6b/c4/ee4096ffa2eeeca0c749b26f0371bd26aa5c8b611c43de99a4f86d3de0a7/pandasql-0.7.3.tar.gz\n",
      "Requirement already satisfied, skipping upgrade: numpy in /Library/Frameworks/Python.framework/Versions/3.8/lib/python3.8/site-packages (from pandasql) (1.18.1)\n",
      "Requirement already satisfied, skipping upgrade: pandas in /Library/Frameworks/Python.framework/Versions/3.8/lib/python3.8/site-packages (from pandasql) (0.25.3)\n",
      "Collecting sqlalchemy (from pandasql)\n",
      "\u001b[?25l  Downloading https://files.pythonhosted.org/packages/d5/02/c0e8860490ee2ab9fe58a8ebe650801a8677fa9a1355e7df6d8fcc3870bf/SQLAlchemy-1.3.23-cp38-cp38-macosx_10_14_x86_64.whl (1.2MB)\n",
      "\u001b[K     |████████████████████████████████| 1.2MB 3.8MB/s eta 0:00:01\n",
      "\u001b[?25hRequirement already satisfied, skipping upgrade: pytz>=2017.2 in /Library/Frameworks/Python.framework/Versions/3.8/lib/python3.8/site-packages (from pandas->pandasql) (2019.3)\n",
      "Requirement already satisfied, skipping upgrade: python-dateutil>=2.6.1 in /Library/Frameworks/Python.framework/Versions/3.8/lib/python3.8/site-packages (from pandas->pandasql) (2.8.1)\n",
      "Requirement already satisfied, skipping upgrade: six>=1.5 in /Library/Frameworks/Python.framework/Versions/3.8/lib/python3.8/site-packages (from python-dateutil>=2.6.1->pandas->pandasql) (1.13.0)\n",
      "Installing collected packages: sqlalchemy, pandasql\n",
      "  Running setup.py install for pandasql ... \u001b[?25ldone\n",
      "\u001b[?25hSuccessfully installed pandasql-0.7.3 sqlalchemy-1.3.23\n",
      "\u001b[33mWARNING: You are using pip version 19.2.3, however version 21.0.1 is available.\n",
      "You should consider upgrading via the 'pip install --upgrade pip' command.\u001b[0m\n"
     ]
    }
   ],
   "source": [
    "!pip3 install -U pandasql"
   ]
  },
  {
   "cell_type": "code",
   "execution_count": 6,
   "metadata": {},
   "outputs": [
    {
     "data": {
      "text/plain": [
       "<module 'pandas' from '/Library/Frameworks/Python.framework/Versions/3.8/lib/python3.8/site-packages/pandas/__init__.py'>"
      ]
     },
     "execution_count": 6,
     "metadata": {},
     "output_type": "execute_result"
    }
   ],
   "source": [
    "pd"
   ]
  },
  {
   "cell_type": "code",
   "execution_count": 8,
   "metadata": {},
   "outputs": [],
   "source": [
    "## import libraries\n",
    "import os\n",
    "import pandas as pd\n",
    "import pip\n",
    "import pandasql as ps\n",
    "import numpy as np\n",
    "import datetime\n",
    "import scipy\n",
    "import random"
   ]
  },
  {
   "cell_type": "code",
   "execution_count": 9,
   "metadata": {},
   "outputs": [
    {
     "data": {
      "text/html": [
       "<div>\n",
       "<style scoped>\n",
       "    .dataframe tbody tr th:only-of-type {\n",
       "        vertical-align: middle;\n",
       "    }\n",
       "\n",
       "    .dataframe tbody tr th {\n",
       "        vertical-align: top;\n",
       "    }\n",
       "\n",
       "    .dataframe thead th {\n",
       "        text-align: right;\n",
       "    }\n",
       "</style>\n",
       "<table border=\"1\" class=\"dataframe\">\n",
       "  <thead>\n",
       "    <tr style=\"text-align: right;\">\n",
       "      <th></th>\n",
       "      <th>userid</th>\n",
       "      <th>country</th>\n",
       "      <th>groups</th>\n",
       "      <th>deviceid</th>\n",
       "      <th>device</th>\n",
       "      <th>sellerid</th>\n",
       "      <th>itemid</th>\n",
       "      <th>date</th>\n",
       "      <th>views</th>\n",
       "      <th>clicks</th>\n",
       "      <th>revenue</th>\n",
       "    </tr>\n",
       "  </thead>\n",
       "  <tbody>\n",
       "    <tr>\n",
       "      <th>0</th>\n",
       "      <td>3441.0</td>\n",
       "      <td>US</td>\n",
       "      <td>control</td>\n",
       "      <td>12745</td>\n",
       "      <td>Ios</td>\n",
       "      <td>306</td>\n",
       "      <td>1685</td>\n",
       "      <td>2017-05-09</td>\n",
       "      <td>5</td>\n",
       "      <td>1</td>\n",
       "      <td>0.00000</td>\n",
       "    </tr>\n",
       "    <tr>\n",
       "      <th>1</th>\n",
       "      <td>3048.0</td>\n",
       "      <td>GB</td>\n",
       "      <td>control</td>\n",
       "      <td>19244</td>\n",
       "      <td>Android</td>\n",
       "      <td>227</td>\n",
       "      <td>2257</td>\n",
       "      <td>2017-05-09</td>\n",
       "      <td>3</td>\n",
       "      <td>1</td>\n",
       "      <td>0.00000</td>\n",
       "    </tr>\n",
       "    <tr>\n",
       "      <th>2</th>\n",
       "      <td>6640.0</td>\n",
       "      <td>CA</td>\n",
       "      <td>treatment</td>\n",
       "      <td>17198</td>\n",
       "      <td>Other</td>\n",
       "      <td>220</td>\n",
       "      <td>2977</td>\n",
       "      <td>2017-05-10</td>\n",
       "      <td>8</td>\n",
       "      <td>2</td>\n",
       "      <td>114.09041</td>\n",
       "    </tr>\n",
       "    <tr>\n",
       "      <th>3</th>\n",
       "      <td>4326.0</td>\n",
       "      <td>US</td>\n",
       "      <td>control</td>\n",
       "      <td>5329</td>\n",
       "      <td>Ios</td>\n",
       "      <td>431</td>\n",
       "      <td>1471</td>\n",
       "      <td>2017-05-12</td>\n",
       "      <td>4</td>\n",
       "      <td>0</td>\n",
       "      <td>0.00000</td>\n",
       "    </tr>\n",
       "    <tr>\n",
       "      <th>4</th>\n",
       "      <td>6993.0</td>\n",
       "      <td>US</td>\n",
       "      <td>control</td>\n",
       "      <td>15955</td>\n",
       "      <td>Web</td>\n",
       "      <td>399</td>\n",
       "      <td>1812</td>\n",
       "      <td>2017-05-08</td>\n",
       "      <td>4</td>\n",
       "      <td>2</td>\n",
       "      <td>0.00000</td>\n",
       "    </tr>\n",
       "  </tbody>\n",
       "</table>\n",
       "</div>"
      ],
      "text/plain": [
       "   userid country     groups  deviceid   device  sellerid  itemid        date  \\\n",
       "0  3441.0      US    control     12745      Ios       306    1685  2017-05-09   \n",
       "1  3048.0      GB    control     19244  Android       227    2257  2017-05-09   \n",
       "2  6640.0      CA  treatment     17198    Other       220    2977  2017-05-10   \n",
       "3  4326.0      US    control      5329      Ios       431    1471  2017-05-12   \n",
       "4  6993.0      US    control     15955      Web       399    1812  2017-05-08   \n",
       "\n",
       "   views  clicks    revenue  \n",
       "0      5       1    0.00000  \n",
       "1      3       1    0.00000  \n",
       "2      8       2  114.09041  \n",
       "3      4       0    0.00000  \n",
       "4      4       2    0.00000  "
      ]
     },
     "execution_count": 9,
     "metadata": {},
     "output_type": "execute_result"
    }
   ],
   "source": [
    "# change work directory\n",
    "# os.chdir('D:\\\\AB Testing')\n",
    "# read in the dataset\n",
    "dat = pd.read_csv('abtest_example_ctr.csv')\n",
    "# dat.head()\n",
    "dat.head()"
   ]
  },
  {
   "cell_type": "markdown",
   "metadata": {},
   "source": [
    "### 2. Summary of Statistics"
   ]
  },
  {
   "cell_type": "code",
   "execution_count": 12,
   "metadata": {},
   "outputs": [
    {
     "data": {
      "text/plain": [
       "(22960, 11)"
      ]
     },
     "execution_count": 12,
     "metadata": {},
     "output_type": "execute_result"
    }
   ],
   "source": [
    "dat.shape"
   ]
  },
  {
   "cell_type": "code",
   "execution_count": 11,
   "metadata": {},
   "outputs": [
    {
     "data": {
      "text/html": [
       "<div>\n",
       "<style scoped>\n",
       "    .dataframe tbody tr th:only-of-type {\n",
       "        vertical-align: middle;\n",
       "    }\n",
       "\n",
       "    .dataframe tbody tr th {\n",
       "        vertical-align: top;\n",
       "    }\n",
       "\n",
       "    .dataframe thead th {\n",
       "        text-align: right;\n",
       "    }\n",
       "</style>\n",
       "<table border=\"1\" class=\"dataframe\">\n",
       "  <thead>\n",
       "    <tr style=\"text-align: right;\">\n",
       "      <th></th>\n",
       "      <th>userid</th>\n",
       "      <th>deviceid</th>\n",
       "      <th>sellerid</th>\n",
       "      <th>itemid</th>\n",
       "      <th>views</th>\n",
       "      <th>clicks</th>\n",
       "      <th>revenue</th>\n",
       "    </tr>\n",
       "  </thead>\n",
       "  <tbody>\n",
       "    <tr>\n",
       "      <th>count</th>\n",
       "      <td>22685.000000</td>\n",
       "      <td>22960.000000</td>\n",
       "      <td>22960.000000</td>\n",
       "      <td>22960.000000</td>\n",
       "      <td>22960.000000</td>\n",
       "      <td>22960.000000</td>\n",
       "      <td>22960.000000</td>\n",
       "    </tr>\n",
       "    <tr>\n",
       "      <th>mean</th>\n",
       "      <td>5485.061362</td>\n",
       "      <td>12566.167291</td>\n",
       "      <td>302.175218</td>\n",
       "      <td>1997.914895</td>\n",
       "      <td>5.796211</td>\n",
       "      <td>1.174652</td>\n",
       "      <td>11.974284</td>\n",
       "    </tr>\n",
       "    <tr>\n",
       "      <th>std</th>\n",
       "      <td>2583.508693</td>\n",
       "      <td>4366.606560</td>\n",
       "      <td>116.394854</td>\n",
       "      <td>573.823353</td>\n",
       "      <td>2.536716</td>\n",
       "      <td>1.091159</td>\n",
       "      <td>38.136377</td>\n",
       "    </tr>\n",
       "    <tr>\n",
       "      <th>min</th>\n",
       "      <td>1000.000000</td>\n",
       "      <td>5000.000000</td>\n",
       "      <td>100.000000</td>\n",
       "      <td>1000.000000</td>\n",
       "      <td>0.000000</td>\n",
       "      <td>0.000000</td>\n",
       "      <td>0.000000</td>\n",
       "    </tr>\n",
       "    <tr>\n",
       "      <th>25%</th>\n",
       "      <td>3256.000000</td>\n",
       "      <td>8758.000000</td>\n",
       "      <td>203.000000</td>\n",
       "      <td>1508.000000</td>\n",
       "      <td>4.000000</td>\n",
       "      <td>0.000000</td>\n",
       "      <td>0.000000</td>\n",
       "    </tr>\n",
       "    <tr>\n",
       "      <th>50%</th>\n",
       "      <td>5450.000000</td>\n",
       "      <td>12537.500000</td>\n",
       "      <td>304.000000</td>\n",
       "      <td>1994.000000</td>\n",
       "      <td>6.000000</td>\n",
       "      <td>1.000000</td>\n",
       "      <td>0.000000</td>\n",
       "    </tr>\n",
       "    <tr>\n",
       "      <th>75%</th>\n",
       "      <td>7717.000000</td>\n",
       "      <td>16409.000000</td>\n",
       "      <td>402.000000</td>\n",
       "      <td>2497.000000</td>\n",
       "      <td>7.000000</td>\n",
       "      <td>2.000000</td>\n",
       "      <td>0.000000</td>\n",
       "    </tr>\n",
       "    <tr>\n",
       "      <th>max</th>\n",
       "      <td>10000.000000</td>\n",
       "      <td>20000.000000</td>\n",
       "      <td>500.000000</td>\n",
       "      <td>3000.000000</td>\n",
       "      <td>20.000000</td>\n",
       "      <td>8.000000</td>\n",
       "      <td>1024.124158</td>\n",
       "    </tr>\n",
       "  </tbody>\n",
       "</table>\n",
       "</div>"
      ],
      "text/plain": [
       "             userid      deviceid      sellerid        itemid         views  \\\n",
       "count  22685.000000  22960.000000  22960.000000  22960.000000  22960.000000   \n",
       "mean    5485.061362  12566.167291    302.175218   1997.914895      5.796211   \n",
       "std     2583.508693   4366.606560    116.394854    573.823353      2.536716   \n",
       "min     1000.000000   5000.000000    100.000000   1000.000000      0.000000   \n",
       "25%     3256.000000   8758.000000    203.000000   1508.000000      4.000000   \n",
       "50%     5450.000000  12537.500000    304.000000   1994.000000      6.000000   \n",
       "75%     7717.000000  16409.000000    402.000000   2497.000000      7.000000   \n",
       "max    10000.000000  20000.000000    500.000000   3000.000000     20.000000   \n",
       "\n",
       "             clicks       revenue  \n",
       "count  22960.000000  22960.000000  \n",
       "mean       1.174652     11.974284  \n",
       "std        1.091159     38.136377  \n",
       "min        0.000000      0.000000  \n",
       "25%        0.000000      0.000000  \n",
       "50%        1.000000      0.000000  \n",
       "75%        2.000000      0.000000  \n",
       "max        8.000000   1024.124158  "
      ]
     },
     "execution_count": 11,
     "metadata": {},
     "output_type": "execute_result"
    }
   ],
   "source": [
    "dat.describe()"
   ]
  },
  {
   "cell_type": "code",
   "execution_count": 10,
   "metadata": {
    "scrolled": true
   },
   "outputs": [
    {
     "name": "stdout",
     "output_type": "stream",
     "text": [
      "Columns are:  ['userid', 'country', 'groups', 'deviceid', 'device', 'sellerid', 'itemid', 'date', 'views', 'clicks', 'revenue']\n",
      "\n",
      "Data contains \n",
      " 22960  rows, and  11  columns\n",
      "\n",
      "Data contains \n",
      " 4  countries \n",
      " 7853  userids \n",
      " 7709 deviceids \n",
      " 401 sellerids \n",
      " 1968 itemids \n",
      " Date started from  2017-05-08  to  2017-05-21  in total lasts  14  days.\n"
     ]
    }
   ],
   "source": [
    "## Summary of statistics\n",
    "print('Columns are: ', list(dat.columns))\n",
    "print()\n",
    "print('Data contains \\n', dat.shape[0], ' rows, and ', dat.shape[1], ' columns')\n",
    "print()\n",
    "print('Data contains \\n', \n",
    "      np.unique(dat['country']).size, ' countries \\n',\n",
    "      np.unique(dat['userid']).size, ' userids \\n',\n",
    "      np.unique(dat['deviceid']).size, 'deviceids \\n',\n",
    "      np.unique(dat['sellerid']).size, 'sellerids \\n',\n",
    "      np.unique(dat['itemid']).size, 'itemids \\n',\n",
    "      'Date started from ', min(dat['date']), ' to ', max(dat['date']), ' in total lasts ', \\\n",
    "      (max(pd.to_datetime(dat['date'])) - min(pd.to_datetime(dat['date']))).days + 1, ' days.')"
   ]
  },
  {
   "cell_type": "code",
   "execution_count": 45,
   "metadata": {},
   "outputs": [
    {
     "data": {
      "text/html": [
       "<div>\n",
       "<style scoped>\n",
       "    .dataframe tbody tr th:only-of-type {\n",
       "        vertical-align: middle;\n",
       "    }\n",
       "\n",
       "    .dataframe tbody tr th {\n",
       "        vertical-align: top;\n",
       "    }\n",
       "\n",
       "    .dataframe thead th {\n",
       "        text-align: right;\n",
       "    }\n",
       "</style>\n",
       "<table border=\"1\" class=\"dataframe\">\n",
       "  <thead>\n",
       "    <tr style=\"text-align: right;\">\n",
       "      <th></th>\n",
       "      <th>userid</th>\n",
       "      <th>country</th>\n",
       "      <th>groups</th>\n",
       "      <th>deviceid</th>\n",
       "      <th>device</th>\n",
       "      <th>sellerid</th>\n",
       "      <th>itemid</th>\n",
       "      <th>date</th>\n",
       "      <th>views</th>\n",
       "      <th>clicks</th>\n",
       "      <th>revenue</th>\n",
       "    </tr>\n",
       "  </thead>\n",
       "  <tbody>\n",
       "    <tr>\n",
       "      <th>count</th>\n",
       "      <td>22685.0</td>\n",
       "      <td>22960</td>\n",
       "      <td>22960</td>\n",
       "      <td>22960.0</td>\n",
       "      <td>22960</td>\n",
       "      <td>22960.0</td>\n",
       "      <td>22960.0</td>\n",
       "      <td>22960</td>\n",
       "      <td>22960.0</td>\n",
       "      <td>22960.0</td>\n",
       "      <td>22960.0</td>\n",
       "    </tr>\n",
       "    <tr>\n",
       "      <th>unique</th>\n",
       "      <td>NaN</td>\n",
       "      <td>4</td>\n",
       "      <td>2</td>\n",
       "      <td>NaN</td>\n",
       "      <td>4</td>\n",
       "      <td>NaN</td>\n",
       "      <td>NaN</td>\n",
       "      <td>14</td>\n",
       "      <td>NaN</td>\n",
       "      <td>NaN</td>\n",
       "      <td>NaN</td>\n",
       "    </tr>\n",
       "    <tr>\n",
       "      <th>top</th>\n",
       "      <td>NaN</td>\n",
       "      <td>US</td>\n",
       "      <td>treatment</td>\n",
       "      <td>NaN</td>\n",
       "      <td>Android</td>\n",
       "      <td>NaN</td>\n",
       "      <td>NaN</td>\n",
       "      <td>2017-05-16</td>\n",
       "      <td>NaN</td>\n",
       "      <td>NaN</td>\n",
       "      <td>NaN</td>\n",
       "    </tr>\n",
       "    <tr>\n",
       "      <th>freq</th>\n",
       "      <td>NaN</td>\n",
       "      <td>9182</td>\n",
       "      <td>11500</td>\n",
       "      <td>NaN</td>\n",
       "      <td>7003</td>\n",
       "      <td>NaN</td>\n",
       "      <td>NaN</td>\n",
       "      <td>1721</td>\n",
       "      <td>NaN</td>\n",
       "      <td>NaN</td>\n",
       "      <td>NaN</td>\n",
       "    </tr>\n",
       "    <tr>\n",
       "      <th>mean</th>\n",
       "      <td>5485.0</td>\n",
       "      <td>NaN</td>\n",
       "      <td>NaN</td>\n",
       "      <td>12566.0</td>\n",
       "      <td>NaN</td>\n",
       "      <td>302.0</td>\n",
       "      <td>1998.0</td>\n",
       "      <td>NaN</td>\n",
       "      <td>6.0</td>\n",
       "      <td>1.0</td>\n",
       "      <td>12.0</td>\n",
       "    </tr>\n",
       "    <tr>\n",
       "      <th>std</th>\n",
       "      <td>2584.0</td>\n",
       "      <td>NaN</td>\n",
       "      <td>NaN</td>\n",
       "      <td>4367.0</td>\n",
       "      <td>NaN</td>\n",
       "      <td>116.0</td>\n",
       "      <td>574.0</td>\n",
       "      <td>NaN</td>\n",
       "      <td>3.0</td>\n",
       "      <td>1.0</td>\n",
       "      <td>38.0</td>\n",
       "    </tr>\n",
       "    <tr>\n",
       "      <th>min</th>\n",
       "      <td>1000.0</td>\n",
       "      <td>NaN</td>\n",
       "      <td>NaN</td>\n",
       "      <td>5000.0</td>\n",
       "      <td>NaN</td>\n",
       "      <td>100.0</td>\n",
       "      <td>1000.0</td>\n",
       "      <td>NaN</td>\n",
       "      <td>0.0</td>\n",
       "      <td>0.0</td>\n",
       "      <td>0.0</td>\n",
       "    </tr>\n",
       "    <tr>\n",
       "      <th>25%</th>\n",
       "      <td>3256.0</td>\n",
       "      <td>NaN</td>\n",
       "      <td>NaN</td>\n",
       "      <td>8758.0</td>\n",
       "      <td>NaN</td>\n",
       "      <td>203.0</td>\n",
       "      <td>1508.0</td>\n",
       "      <td>NaN</td>\n",
       "      <td>4.0</td>\n",
       "      <td>0.0</td>\n",
       "      <td>0.0</td>\n",
       "    </tr>\n",
       "    <tr>\n",
       "      <th>50%</th>\n",
       "      <td>5450.0</td>\n",
       "      <td>NaN</td>\n",
       "      <td>NaN</td>\n",
       "      <td>12538.0</td>\n",
       "      <td>NaN</td>\n",
       "      <td>304.0</td>\n",
       "      <td>1994.0</td>\n",
       "      <td>NaN</td>\n",
       "      <td>6.0</td>\n",
       "      <td>1.0</td>\n",
       "      <td>0.0</td>\n",
       "    </tr>\n",
       "    <tr>\n",
       "      <th>75%</th>\n",
       "      <td>7717.0</td>\n",
       "      <td>NaN</td>\n",
       "      <td>NaN</td>\n",
       "      <td>16409.0</td>\n",
       "      <td>NaN</td>\n",
       "      <td>402.0</td>\n",
       "      <td>2497.0</td>\n",
       "      <td>NaN</td>\n",
       "      <td>7.0</td>\n",
       "      <td>2.0</td>\n",
       "      <td>0.0</td>\n",
       "    </tr>\n",
       "    <tr>\n",
       "      <th>max</th>\n",
       "      <td>10000.0</td>\n",
       "      <td>NaN</td>\n",
       "      <td>NaN</td>\n",
       "      <td>20000.0</td>\n",
       "      <td>NaN</td>\n",
       "      <td>500.0</td>\n",
       "      <td>3000.0</td>\n",
       "      <td>NaN</td>\n",
       "      <td>20.0</td>\n",
       "      <td>8.0</td>\n",
       "      <td>1024.0</td>\n",
       "    </tr>\n",
       "  </tbody>\n",
       "</table>\n",
       "</div>"
      ],
      "text/plain": [
       "         userid country     groups  deviceid   device  sellerid   itemid  \\\n",
       "count   22685.0   22960      22960   22960.0    22960   22960.0  22960.0   \n",
       "unique      NaN       4          2       NaN        4       NaN      NaN   \n",
       "top         NaN      US  treatment       NaN  Android       NaN      NaN   \n",
       "freq        NaN    9182      11500       NaN     7003       NaN      NaN   \n",
       "mean     5485.0     NaN        NaN   12566.0      NaN     302.0   1998.0   \n",
       "std      2584.0     NaN        NaN    4367.0      NaN     116.0    574.0   \n",
       "min      1000.0     NaN        NaN    5000.0      NaN     100.0   1000.0   \n",
       "25%      3256.0     NaN        NaN    8758.0      NaN     203.0   1508.0   \n",
       "50%      5450.0     NaN        NaN   12538.0      NaN     304.0   1994.0   \n",
       "75%      7717.0     NaN        NaN   16409.0      NaN     402.0   2497.0   \n",
       "max     10000.0     NaN        NaN   20000.0      NaN     500.0   3000.0   \n",
       "\n",
       "              date    views   clicks  revenue  \n",
       "count        22960  22960.0  22960.0  22960.0  \n",
       "unique          14      NaN      NaN      NaN  \n",
       "top     2017-05-16      NaN      NaN      NaN  \n",
       "freq          1721      NaN      NaN      NaN  \n",
       "mean           NaN      6.0      1.0     12.0  \n",
       "std            NaN      3.0      1.0     38.0  \n",
       "min            NaN      0.0      0.0      0.0  \n",
       "25%            NaN      4.0      0.0      0.0  \n",
       "50%            NaN      6.0      1.0      0.0  \n",
       "75%            NaN      7.0      2.0      0.0  \n",
       "max            NaN     20.0      8.0   1024.0  "
      ]
     },
     "execution_count": 45,
     "metadata": {},
     "output_type": "execute_result"
    }
   ],
   "source": [
    "# Describe the dataset\n",
    "np.round(dat.describe(include = 'all'))"
   ]
  },
  {
   "cell_type": "markdown",
   "metadata": {},
   "source": [
    "### 3. Data Sanity Check"
   ]
  },
  {
   "cell_type": "markdown",
   "metadata": {},
   "source": [
    "**Data Exploration**\n",
    "\n",
    "* __Check for % of test/control units. Is the % matching DOE?__\n",
    "    * If not match, need to figure out what's the cause? - inbalanced assignment needs to meet expectation;\n",
    "* __Check for miexed assignment__\n",
    "    * It's hard to solve. If # of mixed samples is small, OK to remove. If big, need to figure out what's the cause; \n",
    "    * What's the problem of throwing away mixed samples?\n",
    "        * Because mixed assigned user might be highly active users; \n",
    "        * If we remove them all, we potentially fail to understand the active users in our product;\n",
    "        * A good workaround is, if the user is in both groups, we throw all the records of him to test group;\n",
    "        * It potentially dilutes the test group and weakenes the test effect. -> a conservative method. \n",
    "* __Sanity Check__\n",
    "    * Are test/control similar in other factors other than treatment?"
   ]
  },
  {
   "cell_type": "markdown",
   "metadata": {},
   "source": [
    "As this experiment focuses on users' click through rate and total revenue, userid will be the assignment unit of this experiment."
   ]
  },
  {
   "cell_type": "code",
   "execution_count": 13,
   "metadata": {},
   "outputs": [
    {
     "name": "stdout",
     "output_type": "stream",
     "text": [
      "# of misssing userids:  275\n",
      "Prop of # missing userid records:  0.011977351916376307\n"
     ]
    }
   ],
   "source": [
    "# Check missing values of userid\n",
    "print('# of misssing userids: ', dat['userid'].isnull().sum())\n",
    "print('Prop of # missing userid records: ', dat['userid'].isnull().sum()/dat.shape[0]) # less than 1.2%"
   ]
  },
  {
   "cell_type": "code",
   "execution_count": 14,
   "metadata": {},
   "outputs": [
    {
     "data": {
      "text/plain": [
       "43"
      ]
     },
     "execution_count": 14,
     "metadata": {},
     "output_type": "execute_result"
    }
   ],
   "source": [
    "# Check for mixed assignment\n",
    "# Mixed assignment: same users has been assigned to both control and treatment  \n",
    "\n",
    "# Here I will be using sql ... for fun\n",
    "#sql_code = \"\"\"\n",
    "#SELECT DISTINCT userid FROM dat WHERE groups = 'treatment'\n",
    "#INTERSECT\n",
    "#SELECT DISTINCT userid FROM dat WHERE groups = 'control';\n",
    "#\"\"\"\n",
    "#pysqldf = lambda q: ps.sqldf(q, globals())\n",
    "#mixAssign = ps.sqldf(sql_code)\n",
    "\n",
    "mixAssign = set(dat.loc[dat.groups == 'control', 'userid']) & set(dat.loc[dat.groups == 'treatment', 'userid'])\n",
    "len(mixAssign)"
   ]
  },
  {
   "cell_type": "code",
   "execution_count": 24,
   "metadata": {},
   "outputs": [],
   "source": [
    "mulUser = dat.groupby('deviceid')['userid'].nunique()"
   ]
  },
  {
   "cell_type": "code",
   "execution_count": 25,
   "metadata": {},
   "outputs": [
    {
     "data": {
      "text/plain": [
       "deviceid\n",
       "5000     1\n",
       "5002     1\n",
       "5003     1\n",
       "5006     1\n",
       "5007     1\n",
       "        ..\n",
       "19990    1\n",
       "19994    1\n",
       "19996    1\n",
       "19998    1\n",
       "20000    1\n",
       "Name: userid, Length: 7709, dtype: int64"
      ]
     },
     "execution_count": 25,
     "metadata": {},
     "output_type": "execute_result"
    }
   ],
   "source": [
    "mulUser"
   ]
  },
  {
   "cell_type": "code",
   "execution_count": 39,
   "metadata": {},
   "outputs": [
    {
     "data": {
      "text/plain": [
       "136"
      ]
     },
     "execution_count": 39,
     "metadata": {},
     "output_type": "execute_result"
    }
   ],
   "source": [
    "# Check for multiple-user per device\n",
    "mulUser = dat.groupby('deviceid')['userid'].nunique() #  number of unique elements in the object. exclude NA by default\n",
    "mulUser = set(mulUser[mulUser>1].index)\n",
    "len(mulUser)"
   ]
  },
  {
   "cell_type": "code",
   "execution_count": 28,
   "metadata": {},
   "outputs": [
    {
     "data": {
      "text/plain": [
       "175"
      ]
     },
     "execution_count": 28,
     "metadata": {},
     "output_type": "execute_result"
    }
   ],
   "source": [
    "# Check for multiple-device per user\n",
    "mulDev = dat.groupby('userid')['deviceid'].nunique()\n",
    "mulDev = set(mulDev[mulDev>1].index)\n",
    "len(mulDev)"
   ]
  },
  {
   "cell_type": "code",
   "execution_count": 30,
   "metadata": {},
   "outputs": [
    {
     "data": {
      "text/html": [
       "<div>\n",
       "<style scoped>\n",
       "    .dataframe tbody tr th:only-of-type {\n",
       "        vertical-align: middle;\n",
       "    }\n",
       "\n",
       "    .dataframe tbody tr th {\n",
       "        vertical-align: top;\n",
       "    }\n",
       "\n",
       "    .dataframe thead th {\n",
       "        text-align: right;\n",
       "    }\n",
       "</style>\n",
       "<table border=\"1\" class=\"dataframe\">\n",
       "  <thead>\n",
       "    <tr style=\"text-align: right;\">\n",
       "      <th></th>\n",
       "      <th>userid</th>\n",
       "      <th>country</th>\n",
       "      <th>groups</th>\n",
       "      <th>deviceid</th>\n",
       "      <th>device</th>\n",
       "      <th>sellerid</th>\n",
       "      <th>itemid</th>\n",
       "      <th>date</th>\n",
       "      <th>views</th>\n",
       "      <th>clicks</th>\n",
       "      <th>revenue</th>\n",
       "      <th>Deficit</th>\n",
       "    </tr>\n",
       "  </thead>\n",
       "  <tbody>\n",
       "    <tr>\n",
       "      <th>0</th>\n",
       "      <td>3441.0</td>\n",
       "      <td>US</td>\n",
       "      <td>control</td>\n",
       "      <td>12745</td>\n",
       "      <td>Ios</td>\n",
       "      <td>306</td>\n",
       "      <td>1685</td>\n",
       "      <td>2017-05-09</td>\n",
       "      <td>5</td>\n",
       "      <td>1</td>\n",
       "      <td>0.00000</td>\n",
       "      <td>1</td>\n",
       "    </tr>\n",
       "    <tr>\n",
       "      <th>1</th>\n",
       "      <td>3048.0</td>\n",
       "      <td>GB</td>\n",
       "      <td>control</td>\n",
       "      <td>19244</td>\n",
       "      <td>Android</td>\n",
       "      <td>227</td>\n",
       "      <td>2257</td>\n",
       "      <td>2017-05-09</td>\n",
       "      <td>3</td>\n",
       "      <td>1</td>\n",
       "      <td>0.00000</td>\n",
       "      <td>1</td>\n",
       "    </tr>\n",
       "    <tr>\n",
       "      <th>2</th>\n",
       "      <td>6640.0</td>\n",
       "      <td>CA</td>\n",
       "      <td>treatment</td>\n",
       "      <td>17198</td>\n",
       "      <td>Other</td>\n",
       "      <td>220</td>\n",
       "      <td>2977</td>\n",
       "      <td>2017-05-10</td>\n",
       "      <td>8</td>\n",
       "      <td>2</td>\n",
       "      <td>114.09041</td>\n",
       "      <td>1</td>\n",
       "    </tr>\n",
       "    <tr>\n",
       "      <th>3</th>\n",
       "      <td>4326.0</td>\n",
       "      <td>US</td>\n",
       "      <td>control</td>\n",
       "      <td>5329</td>\n",
       "      <td>Ios</td>\n",
       "      <td>431</td>\n",
       "      <td>1471</td>\n",
       "      <td>2017-05-12</td>\n",
       "      <td>4</td>\n",
       "      <td>0</td>\n",
       "      <td>0.00000</td>\n",
       "      <td>1</td>\n",
       "    </tr>\n",
       "    <tr>\n",
       "      <th>4</th>\n",
       "      <td>6993.0</td>\n",
       "      <td>US</td>\n",
       "      <td>control</td>\n",
       "      <td>15955</td>\n",
       "      <td>Web</td>\n",
       "      <td>399</td>\n",
       "      <td>1812</td>\n",
       "      <td>2017-05-08</td>\n",
       "      <td>4</td>\n",
       "      <td>2</td>\n",
       "      <td>0.00000</td>\n",
       "      <td>1</td>\n",
       "    </tr>\n",
       "    <tr>\n",
       "      <th>...</th>\n",
       "      <td>...</td>\n",
       "      <td>...</td>\n",
       "      <td>...</td>\n",
       "      <td>...</td>\n",
       "      <td>...</td>\n",
       "      <td>...</td>\n",
       "      <td>...</td>\n",
       "      <td>...</td>\n",
       "      <td>...</td>\n",
       "      <td>...</td>\n",
       "      <td>...</td>\n",
       "      <td>...</td>\n",
       "    </tr>\n",
       "    <tr>\n",
       "      <th>22955</th>\n",
       "      <td>5680.0</td>\n",
       "      <td>GB</td>\n",
       "      <td>control</td>\n",
       "      <td>8054</td>\n",
       "      <td>Ios</td>\n",
       "      <td>362</td>\n",
       "      <td>1456</td>\n",
       "      <td>2017-05-18</td>\n",
       "      <td>10</td>\n",
       "      <td>2</td>\n",
       "      <td>0.00000</td>\n",
       "      <td>1</td>\n",
       "    </tr>\n",
       "    <tr>\n",
       "      <th>22956</th>\n",
       "      <td>3021.0</td>\n",
       "      <td>CN</td>\n",
       "      <td>treatment</td>\n",
       "      <td>17737</td>\n",
       "      <td>Ios</td>\n",
       "      <td>174</td>\n",
       "      <td>1006</td>\n",
       "      <td>2017-05-20</td>\n",
       "      <td>6</td>\n",
       "      <td>2</td>\n",
       "      <td>0.00000</td>\n",
       "      <td>1</td>\n",
       "    </tr>\n",
       "    <tr>\n",
       "      <th>22957</th>\n",
       "      <td>5326.0</td>\n",
       "      <td>US</td>\n",
       "      <td>treatment</td>\n",
       "      <td>8380</td>\n",
       "      <td>Other</td>\n",
       "      <td>466</td>\n",
       "      <td>2062</td>\n",
       "      <td>2017-05-09</td>\n",
       "      <td>4</td>\n",
       "      <td>1</td>\n",
       "      <td>0.00000</td>\n",
       "      <td>1</td>\n",
       "    </tr>\n",
       "    <tr>\n",
       "      <th>22958</th>\n",
       "      <td>1702.0</td>\n",
       "      <td>US</td>\n",
       "      <td>control</td>\n",
       "      <td>7595</td>\n",
       "      <td>Web</td>\n",
       "      <td>438</td>\n",
       "      <td>2195</td>\n",
       "      <td>2017-05-13</td>\n",
       "      <td>4</td>\n",
       "      <td>1</td>\n",
       "      <td>0.00000</td>\n",
       "      <td>1</td>\n",
       "    </tr>\n",
       "    <tr>\n",
       "      <th>22959</th>\n",
       "      <td>5248.0</td>\n",
       "      <td>GB</td>\n",
       "      <td>control</td>\n",
       "      <td>9356</td>\n",
       "      <td>Android</td>\n",
       "      <td>321</td>\n",
       "      <td>2074</td>\n",
       "      <td>2017-05-08</td>\n",
       "      <td>2</td>\n",
       "      <td>0</td>\n",
       "      <td>0.00000</td>\n",
       "      <td>1</td>\n",
       "    </tr>\n",
       "  </tbody>\n",
       "</table>\n",
       "<p>22960 rows × 12 columns</p>\n",
       "</div>"
      ],
      "text/plain": [
       "       userid country     groups  deviceid   device  sellerid  itemid  \\\n",
       "0      3441.0      US    control     12745      Ios       306    1685   \n",
       "1      3048.0      GB    control     19244  Android       227    2257   \n",
       "2      6640.0      CA  treatment     17198    Other       220    2977   \n",
       "3      4326.0      US    control      5329      Ios       431    1471   \n",
       "4      6993.0      US    control     15955      Web       399    1812   \n",
       "...       ...     ...        ...       ...      ...       ...     ...   \n",
       "22955  5680.0      GB    control      8054      Ios       362    1456   \n",
       "22956  3021.0      CN  treatment     17737      Ios       174    1006   \n",
       "22957  5326.0      US  treatment      8380    Other       466    2062   \n",
       "22958  1702.0      US    control      7595      Web       438    2195   \n",
       "22959  5248.0      GB    control      9356  Android       321    2074   \n",
       "\n",
       "             date  views  clicks    revenue  Deficit  \n",
       "0      2017-05-09      5       1    0.00000        1  \n",
       "1      2017-05-09      3       1    0.00000        1  \n",
       "2      2017-05-10      8       2  114.09041        1  \n",
       "3      2017-05-12      4       0    0.00000        1  \n",
       "4      2017-05-08      4       2    0.00000        1  \n",
       "...           ...    ...     ...        ...      ...  \n",
       "22955  2017-05-18     10       2    0.00000        1  \n",
       "22956  2017-05-20      6       2    0.00000        1  \n",
       "22957  2017-05-09      4       1    0.00000        1  \n",
       "22958  2017-05-13      4       1    0.00000        1  \n",
       "22959  2017-05-08      2       0    0.00000        1  \n",
       "\n",
       "[22960 rows x 12 columns]"
      ]
     },
     "execution_count": 30,
     "metadata": {},
     "output_type": "execute_result"
    }
   ],
   "source": [
    "dat"
   ]
  },
  {
   "cell_type": "code",
   "execution_count": 37,
   "metadata": {},
   "outputs": [
    {
     "data": {
      "text/plain": [
       "0        12745\n",
       "1        19244\n",
       "2        17198\n",
       "3         5329\n",
       "4        15955\n",
       "         ...  \n",
       "22955     8054\n",
       "22956    17737\n",
       "22957     8380\n",
       "22958     7595\n",
       "22959     9356\n",
       "Name: deviceid, Length: 22960, dtype: int64"
      ]
     },
     "execution_count": 37,
     "metadata": {},
     "output_type": "execute_result"
    }
   ],
   "source": [
    "dat['deviceid']"
   ]
  },
  {
   "cell_type": "code",
   "execution_count": 41,
   "metadata": {},
   "outputs": [
    {
     "data": {
      "text/plain": [
       "1823"
      ]
     },
     "execution_count": 41,
     "metadata": {},
     "output_type": "execute_result"
    }
   ],
   "source": [
    "# Check if NA/mixed/multiple-device/multiple-user is random\n",
    "# Create dummy, if any problem 1, else 0.\n",
    "dat['Deficit'] = dat.apply(lambda x: int((x['userid'] in mixAssign|mulDev) | np.isnan(x['userid']) | (x['deviceid'] in mulUser)), axis = 1)\n",
    "dat['Deficit'].sum()"
   ]
  },
  {
   "cell_type": "markdown",
   "metadata": {},
   "source": [
    "For simplicity, we run a simple logistic regression model as there are not many covariates. And check the p-value of each variables to see if the missing is associate with specific country/groups/device/date/views/clicks/revenue.\n",
    "\n",
    "But in the first place, to use sklearn, we need to 'dummy' those variables\n"
   ]
  },
  {
   "cell_type": "code",
   "execution_count": 51,
   "metadata": {},
   "outputs": [
    {
     "data": {
      "text/html": [
       "<div>\n",
       "<style scoped>\n",
       "    .dataframe tbody tr th:only-of-type {\n",
       "        vertical-align: middle;\n",
       "    }\n",
       "\n",
       "    .dataframe tbody tr th {\n",
       "        vertical-align: top;\n",
       "    }\n",
       "\n",
       "    .dataframe thead th {\n",
       "        text-align: right;\n",
       "    }\n",
       "</style>\n",
       "<table border=\"1\" class=\"dataframe\">\n",
       "  <thead>\n",
       "    <tr style=\"text-align: right;\">\n",
       "      <th></th>\n",
       "      <th>views</th>\n",
       "      <th>clicks</th>\n",
       "      <th>revenue</th>\n",
       "      <th>Deficit</th>\n",
       "      <th>country_CN</th>\n",
       "      <th>country_GB</th>\n",
       "      <th>country_US</th>\n",
       "      <th>groups_treatment</th>\n",
       "      <th>device_Ios</th>\n",
       "      <th>device_Other</th>\n",
       "      <th>...</th>\n",
       "      <th>date_2017-05-12</th>\n",
       "      <th>date_2017-05-13</th>\n",
       "      <th>date_2017-05-14</th>\n",
       "      <th>date_2017-05-15</th>\n",
       "      <th>date_2017-05-16</th>\n",
       "      <th>date_2017-05-17</th>\n",
       "      <th>date_2017-05-18</th>\n",
       "      <th>date_2017-05-19</th>\n",
       "      <th>date_2017-05-20</th>\n",
       "      <th>date_2017-05-21</th>\n",
       "    </tr>\n",
       "  </thead>\n",
       "  <tbody>\n",
       "    <tr>\n",
       "      <th>0</th>\n",
       "      <td>5</td>\n",
       "      <td>1</td>\n",
       "      <td>0.00000</td>\n",
       "      <td>0</td>\n",
       "      <td>0</td>\n",
       "      <td>0</td>\n",
       "      <td>1</td>\n",
       "      <td>0</td>\n",
       "      <td>1</td>\n",
       "      <td>0</td>\n",
       "      <td>...</td>\n",
       "      <td>0</td>\n",
       "      <td>0</td>\n",
       "      <td>0</td>\n",
       "      <td>0</td>\n",
       "      <td>0</td>\n",
       "      <td>0</td>\n",
       "      <td>0</td>\n",
       "      <td>0</td>\n",
       "      <td>0</td>\n",
       "      <td>0</td>\n",
       "    </tr>\n",
       "    <tr>\n",
       "      <th>1</th>\n",
       "      <td>3</td>\n",
       "      <td>1</td>\n",
       "      <td>0.00000</td>\n",
       "      <td>0</td>\n",
       "      <td>0</td>\n",
       "      <td>1</td>\n",
       "      <td>0</td>\n",
       "      <td>0</td>\n",
       "      <td>0</td>\n",
       "      <td>0</td>\n",
       "      <td>...</td>\n",
       "      <td>0</td>\n",
       "      <td>0</td>\n",
       "      <td>0</td>\n",
       "      <td>0</td>\n",
       "      <td>0</td>\n",
       "      <td>0</td>\n",
       "      <td>0</td>\n",
       "      <td>0</td>\n",
       "      <td>0</td>\n",
       "      <td>0</td>\n",
       "    </tr>\n",
       "    <tr>\n",
       "      <th>2</th>\n",
       "      <td>8</td>\n",
       "      <td>2</td>\n",
       "      <td>114.09041</td>\n",
       "      <td>0</td>\n",
       "      <td>0</td>\n",
       "      <td>0</td>\n",
       "      <td>0</td>\n",
       "      <td>1</td>\n",
       "      <td>0</td>\n",
       "      <td>1</td>\n",
       "      <td>...</td>\n",
       "      <td>0</td>\n",
       "      <td>0</td>\n",
       "      <td>0</td>\n",
       "      <td>0</td>\n",
       "      <td>0</td>\n",
       "      <td>0</td>\n",
       "      <td>0</td>\n",
       "      <td>0</td>\n",
       "      <td>0</td>\n",
       "      <td>0</td>\n",
       "    </tr>\n",
       "    <tr>\n",
       "      <th>3</th>\n",
       "      <td>4</td>\n",
       "      <td>0</td>\n",
       "      <td>0.00000</td>\n",
       "      <td>0</td>\n",
       "      <td>0</td>\n",
       "      <td>0</td>\n",
       "      <td>1</td>\n",
       "      <td>0</td>\n",
       "      <td>1</td>\n",
       "      <td>0</td>\n",
       "      <td>...</td>\n",
       "      <td>1</td>\n",
       "      <td>0</td>\n",
       "      <td>0</td>\n",
       "      <td>0</td>\n",
       "      <td>0</td>\n",
       "      <td>0</td>\n",
       "      <td>0</td>\n",
       "      <td>0</td>\n",
       "      <td>0</td>\n",
       "      <td>0</td>\n",
       "    </tr>\n",
       "    <tr>\n",
       "      <th>4</th>\n",
       "      <td>4</td>\n",
       "      <td>2</td>\n",
       "      <td>0.00000</td>\n",
       "      <td>0</td>\n",
       "      <td>0</td>\n",
       "      <td>0</td>\n",
       "      <td>1</td>\n",
       "      <td>0</td>\n",
       "      <td>0</td>\n",
       "      <td>0</td>\n",
       "      <td>...</td>\n",
       "      <td>0</td>\n",
       "      <td>0</td>\n",
       "      <td>0</td>\n",
       "      <td>0</td>\n",
       "      <td>0</td>\n",
       "      <td>0</td>\n",
       "      <td>0</td>\n",
       "      <td>0</td>\n",
       "      <td>0</td>\n",
       "      <td>0</td>\n",
       "    </tr>\n",
       "  </tbody>\n",
       "</table>\n",
       "<p>5 rows × 24 columns</p>\n",
       "</div>"
      ],
      "text/plain": [
       "   views  clicks    revenue  Deficit  country_CN  country_GB  country_US  \\\n",
       "0      5       1    0.00000        0           0           0           1   \n",
       "1      3       1    0.00000        0           0           1           0   \n",
       "2      8       2  114.09041        0           0           0           0   \n",
       "3      4       0    0.00000        0           0           0           1   \n",
       "4      4       2    0.00000        0           0           0           1   \n",
       "\n",
       "   groups_treatment  device_Ios  device_Other       ...         \\\n",
       "0                 0           1             0       ...          \n",
       "1                 0           0             0       ...          \n",
       "2                 1           0             1       ...          \n",
       "3                 0           1             0       ...          \n",
       "4                 0           0             0       ...          \n",
       "\n",
       "   date_2017-05-12  date_2017-05-13  date_2017-05-14  date_2017-05-15  \\\n",
       "0                0                0                0                0   \n",
       "1                0                0                0                0   \n",
       "2                0                0                0                0   \n",
       "3                1                0                0                0   \n",
       "4                0                0                0                0   \n",
       "\n",
       "   date_2017-05-16  date_2017-05-17  date_2017-05-18  date_2017-05-19  \\\n",
       "0                0                0                0                0   \n",
       "1                0                0                0                0   \n",
       "2                0                0                0                0   \n",
       "3                0                0                0                0   \n",
       "4                0                0                0                0   \n",
       "\n",
       "   date_2017-05-20  date_2017-05-21  \n",
       "0                0                0  \n",
       "1                0                0  \n",
       "2                0                0  \n",
       "3                0                0  \n",
       "4                0                0  \n",
       "\n",
       "[5 rows x 24 columns]"
      ]
     },
     "execution_count": 51,
     "metadata": {},
     "output_type": "execute_result"
    }
   ],
   "source": [
    "# Create dummy variables\n",
    "datCheck = dat.copy()\n",
    "datCheck = pd.get_dummies(datCheck[['country', 'groups', 'device', 'date', 'views', 'clicks', 'revenue', 'Deficit']])\n",
    "datCheck.drop(columns = ['country_CA', 'groups_control', 'date_2017-05-08', 'device_Android'], inplace = True)\n",
    "datCheck.head()"
   ]
  },
  {
   "cell_type": "code",
   "execution_count": 52,
   "metadata": {},
   "outputs": [
    {
     "data": {
      "text/plain": [
       "LogisticRegression(C=1000000.0, class_weight=None, dual=False,\n",
       "          fit_intercept=True, intercept_scaling=1, max_iter=100,\n",
       "          multi_class='ovr', n_jobs=1, penalty='l2', random_state=0,\n",
       "          solver='liblinear', tol=0.0001, verbose=0, warm_start=False)"
      ]
     },
     "execution_count": 52,
     "metadata": {},
     "output_type": "execute_result"
    }
   ],
   "source": [
    "# Run a simple logistic regression\n",
    "from sklearn.linear_model import LogisticRegression\n",
    "lr = LogisticRegression(random_state=0, C=1e6) # lower C means higher penalty, use convention in SVM\n",
    "lr.fit(datCheck.loc[:,datCheck.columns!='Deficit'], datCheck['Deficit'])"
   ]
  },
  {
   "cell_type": "code",
   "execution_count": 53,
   "metadata": {},
   "outputs": [
    {
     "name": "stdout",
     "output_type": "stream",
     "text": [
      "intercept:  [-2.44275683]\n"
     ]
    },
    {
     "data": {
      "text/plain": [
       "{'views': 0.003676205223950213,\n",
       " 'clicks': -0.032457761797823496,\n",
       " 'revenue': 0.0002996713985630129,\n",
       " 'country_CN': -0.12864775250729915,\n",
       " 'country_GB': -0.15981963077922479,\n",
       " 'country_US': -0.09787344286589661,\n",
       " 'groups_treatment': -0.028145905795962302,\n",
       " 'device_Ios': 0.13190803322761677,\n",
       " 'device_Other': 0.18063270969294815,\n",
       " 'device_Web': 0.11274798162673037,\n",
       " 'date_2017-05-09': -0.09359675762579389,\n",
       " 'date_2017-05-10': -0.027372523582008923,\n",
       " 'date_2017-05-11': 0.028565325749638566,\n",
       " 'date_2017-05-12': 0.09078756077920669,\n",
       " 'date_2017-05-13': 0.0347781267873893,\n",
       " 'date_2017-05-14': 0.2117121449867692,\n",
       " 'date_2017-05-15': -0.0975895380608316,\n",
       " 'date_2017-05-16': -0.006356662512770055,\n",
       " 'date_2017-05-17': 0.03814663794821731,\n",
       " 'date_2017-05-18': -0.024250236173639826,\n",
       " 'date_2017-05-19': 0.049119346515590384,\n",
       " 'date_2017-05-20': 0.03767493806071268,\n",
       " 'date_2017-05-21': -0.03397509740435897}"
      ]
     },
     "execution_count": 53,
     "metadata": {},
     "output_type": "execute_result"
    }
   ],
   "source": [
    "# Check the attributes\n",
    "print('intercept: ', lr.intercept_)\n",
    "dict(zip(datCheck.columns[datCheck.columns!='Deficit'], lr.coef_[0]))\n",
    "\n",
    "# Note:\n",
    "# sklearn doesn't provide built-in P-value and other statistical calculation "
   ]
  },
  {
   "cell_type": "code",
   "execution_count": null,
   "metadata": {},
   "outputs": [],
   "source": [
    "##### Alternative logistic regression packages/api\n",
    "# use statsmodels.api to get the P-value\n",
    "import statsmodels.api as sm\n",
    "datCheck['intercept'] = 1 # Note, if we don't have the intercept, statsmodels will by default has not intercept\n",
    "model = sm.Logit(datCheck['Deficit'], datCheck.loc[:,datCheck.columns!='Deficit'])\n",
    "result = model.fit()\n",
    "result.summary()\n",
    "# if we have P-value, we should be able to know that country_GB and device_Other are significant in the logistic regression.\n",
    "# we can dive deep to see what happens there."
   ]
  },
  {
   "cell_type": "markdown",
   "metadata": {},
   "source": [
    "*Very Important*: we can see the coefficient lines up with the previous one.\n",
    "\n",
    "Let's compare three ways of logistic regression calculation:\n",
    "* R: no need to create dummy and has statistics. use code: \"m = glm(y ~ x1 + x2 + ... + x3, data, family = 'binomial') \\n summary(m)\"\n",
    "* sklearn: needs to create dummy variables; no p-value & other statistics.\n",
    "* statsmodels.api: needs to create dummy variables and need to specify 'intercept', otherwise intercept is not there by default."
   ]
  },
  {
   "cell_type": "code",
   "execution_count": 43,
   "metadata": {},
   "outputs": [
    {
     "name": "stdout",
     "output_type": "stream",
     "text": [
      "device\n",
      "Android    0.013708\n",
      "Ios        0.008946\n",
      "Other      0.009752\n",
      "Web        0.013820\n",
      "Name: nullUser, dtype: float64\n",
      "device\n",
      "Android    0.004998\n",
      "Ios        0.004582\n",
      "Other      0.007632\n",
      "Web        0.008863\n",
      "Name: mixAssign, dtype: float64\n",
      "device\n",
      "Android    0.029702\n",
      "Ios        0.037530\n",
      "Other      0.043884\n",
      "Web        0.029743\n",
      "Name: mulUser, dtype: float64\n",
      "device\n",
      "Android    0.038983\n",
      "Ios        0.050185\n",
      "Other      0.045792\n",
      "Web        0.044765\n",
      "Name: mulDev, dtype: float64\n"
     ]
    }
   ],
   "source": [
    "# Example: Dive deep into device_other (similar analysis could be applied on Country_GB)\n",
    "# since the device_other has a significant effect, let dive deep into this\n",
    "dat['nullUser'] = dat['userid'].isnull()*1\n",
    "dat['mixAssign'] = dat['userid'].apply(lambda x: int(x in mixAssign))\n",
    "dat['mulUser'] = dat['deviceid'].apply(lambda x: int(x in mulUser))\n",
    "dat['mulDev'] = dat['userid'].apply(lambda x: int(x in mulDev))\n",
    "# sum(np.sum(dat[['nullUser','mixAssign','mulUser','mulDev']],axis=1)>=1) # 1823 Checked!\n",
    "print(dat.groupby('device')['nullUser'].mean())\n",
    "print(dat.groupby('device')['mixAssign'].mean())\n",
    "print(dat.groupby('device')['mulUser'].mean()) # higher multiple user percent - is it expected? bug? talk to engineers.\n",
    "print(dat.groupby('device')['mulDev'].mean())"
   ]
  },
  {
   "cell_type": "code",
   "execution_count": 56,
   "metadata": {},
   "outputs": [
    {
     "data": {
      "image/png": "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\n",
      "text/plain": [
       "<Figure size 432x288 with 1 Axes>"
      ]
     },
     "metadata": {},
     "output_type": "display_data"
    }
   ],
   "source": [
    "# Also, we can do some viz of key metrics:\n",
    "# help define whether problematics records are caused by some specific problems (channel, engineering...)\n",
    "# key metrics: views, clicks, click-through-rate\n",
    "import matplotlib.pyplot as plt\n",
    "plt.boxplot([dat['views'][dat['nullUser']==0], dat['views'][dat['nullUser']==1]])\n",
    "plt.xticks([1,2],('No Missing','Missing'), rotation=15)\n",
    "plt.ylabel('Views')\n",
    "plt.title('Boxplot of views on nullUser')\n",
    "plt.show()\n",
    "# 'nullUser' could be replaced by ['mixAssign', 'mulUser', 'mulDev']\n",
    "# 'views' could be replaced by 'clicks'"
   ]
  },
  {
   "cell_type": "code",
   "execution_count": 44,
   "metadata": {},
   "outputs": [
    {
     "data": {
      "text/plain": [
       "(21137, 16)"
      ]
     },
     "execution_count": 44,
     "metadata": {},
     "output_type": "execute_result"
    }
   ],
   "source": [
    "# In this case, we throw away all problematic assignments for simplicity.\n",
    "dat = dat.loc[dat['Deficit']!=1,:]\n",
    "dat.shape"
   ]
  },
  {
   "cell_type": "markdown",
   "metadata": {},
   "source": [
    "__For simplicity, we throw away all the problematic assignments in this case. In reality, do not do this by default. Need to go through details within groups and check carefully.__"
   ]
  },
  {
   "cell_type": "code",
   "execution_count": 45,
   "metadata": {},
   "outputs": [
    {
     "name": "stderr",
     "output_type": "stream",
     "text": [
      "<ipython-input-45-b22d95640834>:4: SettingWithCopyWarning: \n",
      "A value is trying to be set on a copy of a slice from a DataFrame.\n",
      "Try using .loc[row_indexer,col_indexer] = value instead\n",
      "\n",
      "See the caveats in the documentation: http://pandas.pydata.org/pandas-docs/stable/user_guide/indexing.html#returning-a-view-versus-a-copy\n",
      "  dat['date'] = pd.to_datetime(dat['date'])\n"
     ]
    },
    {
     "data": {
      "text/plain": [
       "(4487, 16)"
      ]
     },
     "execution_count": 45,
     "metadata": {},
     "output_type": "execute_result"
    }
   ],
   "source": [
    "# Sanity check on filtered data \n",
    "# Check whether metrics are comparable before experiment (if there has difference betwen control and treatment)\n",
    "# Day 1 - 3 (before experiment)\n",
    "dat['date'] = pd.to_datetime(dat['date'])\n",
    "experiment_date = min(dat['date'])+datetime.timedelta(days=3)\n",
    "dat_bef = dat.loc[dat['date']<experiment_date,:]\n",
    "dat_bef.shape"
   ]
  },
  {
   "cell_type": "code",
   "execution_count": 47,
   "metadata": {},
   "outputs": [
    {
     "data": {
      "text/html": [
       "<div>\n",
       "<style scoped>\n",
       "    .dataframe tbody tr th:only-of-type {\n",
       "        vertical-align: middle;\n",
       "    }\n",
       "\n",
       "    .dataframe tbody tr th {\n",
       "        vertical-align: top;\n",
       "    }\n",
       "\n",
       "    .dataframe thead th {\n",
       "        text-align: right;\n",
       "    }\n",
       "</style>\n",
       "<table border=\"1\" class=\"dataframe\">\n",
       "  <thead>\n",
       "    <tr style=\"text-align: right;\">\n",
       "      <th></th>\n",
       "      <th>userid</th>\n",
       "      <th>country</th>\n",
       "      <th>groups</th>\n",
       "      <th>deviceid</th>\n",
       "      <th>device</th>\n",
       "      <th>sellerid</th>\n",
       "      <th>itemid</th>\n",
       "      <th>date</th>\n",
       "      <th>views</th>\n",
       "      <th>clicks</th>\n",
       "      <th>revenue</th>\n",
       "      <th>Deficit</th>\n",
       "      <th>nullUser</th>\n",
       "      <th>mixAssign</th>\n",
       "      <th>mulUser</th>\n",
       "      <th>mulDev</th>\n",
       "    </tr>\n",
       "  </thead>\n",
       "  <tbody>\n",
       "    <tr>\n",
       "      <th>0</th>\n",
       "      <td>3441.0</td>\n",
       "      <td>US</td>\n",
       "      <td>control</td>\n",
       "      <td>12745</td>\n",
       "      <td>Ios</td>\n",
       "      <td>306</td>\n",
       "      <td>1685</td>\n",
       "      <td>2017-05-09</td>\n",
       "      <td>5</td>\n",
       "      <td>1</td>\n",
       "      <td>0.00000</td>\n",
       "      <td>0</td>\n",
       "      <td>0</td>\n",
       "      <td>0</td>\n",
       "      <td>0</td>\n",
       "      <td>0</td>\n",
       "    </tr>\n",
       "    <tr>\n",
       "      <th>1</th>\n",
       "      <td>3048.0</td>\n",
       "      <td>GB</td>\n",
       "      <td>control</td>\n",
       "      <td>19244</td>\n",
       "      <td>Android</td>\n",
       "      <td>227</td>\n",
       "      <td>2257</td>\n",
       "      <td>2017-05-09</td>\n",
       "      <td>3</td>\n",
       "      <td>1</td>\n",
       "      <td>0.00000</td>\n",
       "      <td>0</td>\n",
       "      <td>0</td>\n",
       "      <td>0</td>\n",
       "      <td>0</td>\n",
       "      <td>0</td>\n",
       "    </tr>\n",
       "    <tr>\n",
       "      <th>2</th>\n",
       "      <td>6640.0</td>\n",
       "      <td>CA</td>\n",
       "      <td>treatment</td>\n",
       "      <td>17198</td>\n",
       "      <td>Other</td>\n",
       "      <td>220</td>\n",
       "      <td>2977</td>\n",
       "      <td>2017-05-10</td>\n",
       "      <td>8</td>\n",
       "      <td>2</td>\n",
       "      <td>114.09041</td>\n",
       "      <td>0</td>\n",
       "      <td>0</td>\n",
       "      <td>0</td>\n",
       "      <td>0</td>\n",
       "      <td>0</td>\n",
       "    </tr>\n",
       "    <tr>\n",
       "      <th>3</th>\n",
       "      <td>4326.0</td>\n",
       "      <td>US</td>\n",
       "      <td>control</td>\n",
       "      <td>5329</td>\n",
       "      <td>Ios</td>\n",
       "      <td>431</td>\n",
       "      <td>1471</td>\n",
       "      <td>2017-05-12</td>\n",
       "      <td>4</td>\n",
       "      <td>0</td>\n",
       "      <td>0.00000</td>\n",
       "      <td>0</td>\n",
       "      <td>0</td>\n",
       "      <td>0</td>\n",
       "      <td>0</td>\n",
       "      <td>0</td>\n",
       "    </tr>\n",
       "    <tr>\n",
       "      <th>4</th>\n",
       "      <td>6993.0</td>\n",
       "      <td>US</td>\n",
       "      <td>control</td>\n",
       "      <td>15955</td>\n",
       "      <td>Web</td>\n",
       "      <td>399</td>\n",
       "      <td>1812</td>\n",
       "      <td>2017-05-08</td>\n",
       "      <td>4</td>\n",
       "      <td>2</td>\n",
       "      <td>0.00000</td>\n",
       "      <td>0</td>\n",
       "      <td>0</td>\n",
       "      <td>0</td>\n",
       "      <td>0</td>\n",
       "      <td>0</td>\n",
       "    </tr>\n",
       "    <tr>\n",
       "      <th>...</th>\n",
       "      <td>...</td>\n",
       "      <td>...</td>\n",
       "      <td>...</td>\n",
       "      <td>...</td>\n",
       "      <td>...</td>\n",
       "      <td>...</td>\n",
       "      <td>...</td>\n",
       "      <td>...</td>\n",
       "      <td>...</td>\n",
       "      <td>...</td>\n",
       "      <td>...</td>\n",
       "      <td>...</td>\n",
       "      <td>...</td>\n",
       "      <td>...</td>\n",
       "      <td>...</td>\n",
       "      <td>...</td>\n",
       "    </tr>\n",
       "    <tr>\n",
       "      <th>22955</th>\n",
       "      <td>5680.0</td>\n",
       "      <td>GB</td>\n",
       "      <td>control</td>\n",
       "      <td>8054</td>\n",
       "      <td>Ios</td>\n",
       "      <td>362</td>\n",
       "      <td>1456</td>\n",
       "      <td>2017-05-18</td>\n",
       "      <td>10</td>\n",
       "      <td>2</td>\n",
       "      <td>0.00000</td>\n",
       "      <td>0</td>\n",
       "      <td>0</td>\n",
       "      <td>0</td>\n",
       "      <td>0</td>\n",
       "      <td>0</td>\n",
       "    </tr>\n",
       "    <tr>\n",
       "      <th>22956</th>\n",
       "      <td>3021.0</td>\n",
       "      <td>CN</td>\n",
       "      <td>treatment</td>\n",
       "      <td>17737</td>\n",
       "      <td>Ios</td>\n",
       "      <td>174</td>\n",
       "      <td>1006</td>\n",
       "      <td>2017-05-20</td>\n",
       "      <td>6</td>\n",
       "      <td>2</td>\n",
       "      <td>0.00000</td>\n",
       "      <td>0</td>\n",
       "      <td>0</td>\n",
       "      <td>0</td>\n",
       "      <td>0</td>\n",
       "      <td>0</td>\n",
       "    </tr>\n",
       "    <tr>\n",
       "      <th>22957</th>\n",
       "      <td>5326.0</td>\n",
       "      <td>US</td>\n",
       "      <td>treatment</td>\n",
       "      <td>8380</td>\n",
       "      <td>Other</td>\n",
       "      <td>466</td>\n",
       "      <td>2062</td>\n",
       "      <td>2017-05-09</td>\n",
       "      <td>4</td>\n",
       "      <td>1</td>\n",
       "      <td>0.00000</td>\n",
       "      <td>0</td>\n",
       "      <td>0</td>\n",
       "      <td>0</td>\n",
       "      <td>0</td>\n",
       "      <td>0</td>\n",
       "    </tr>\n",
       "    <tr>\n",
       "      <th>22958</th>\n",
       "      <td>1702.0</td>\n",
       "      <td>US</td>\n",
       "      <td>control</td>\n",
       "      <td>7595</td>\n",
       "      <td>Web</td>\n",
       "      <td>438</td>\n",
       "      <td>2195</td>\n",
       "      <td>2017-05-13</td>\n",
       "      <td>4</td>\n",
       "      <td>1</td>\n",
       "      <td>0.00000</td>\n",
       "      <td>0</td>\n",
       "      <td>0</td>\n",
       "      <td>0</td>\n",
       "      <td>0</td>\n",
       "      <td>0</td>\n",
       "    </tr>\n",
       "    <tr>\n",
       "      <th>22959</th>\n",
       "      <td>5248.0</td>\n",
       "      <td>GB</td>\n",
       "      <td>control</td>\n",
       "      <td>9356</td>\n",
       "      <td>Android</td>\n",
       "      <td>321</td>\n",
       "      <td>2074</td>\n",
       "      <td>2017-05-08</td>\n",
       "      <td>2</td>\n",
       "      <td>0</td>\n",
       "      <td>0.00000</td>\n",
       "      <td>0</td>\n",
       "      <td>0</td>\n",
       "      <td>0</td>\n",
       "      <td>0</td>\n",
       "      <td>0</td>\n",
       "    </tr>\n",
       "  </tbody>\n",
       "</table>\n",
       "<p>21137 rows × 16 columns</p>\n",
       "</div>"
      ],
      "text/plain": [
       "       userid country     groups  deviceid   device  sellerid  itemid  \\\n",
       "0      3441.0      US    control     12745      Ios       306    1685   \n",
       "1      3048.0      GB    control     19244  Android       227    2257   \n",
       "2      6640.0      CA  treatment     17198    Other       220    2977   \n",
       "3      4326.0      US    control      5329      Ios       431    1471   \n",
       "4      6993.0      US    control     15955      Web       399    1812   \n",
       "...       ...     ...        ...       ...      ...       ...     ...   \n",
       "22955  5680.0      GB    control      8054      Ios       362    1456   \n",
       "22956  3021.0      CN  treatment     17737      Ios       174    1006   \n",
       "22957  5326.0      US  treatment      8380    Other       466    2062   \n",
       "22958  1702.0      US    control      7595      Web       438    2195   \n",
       "22959  5248.0      GB    control      9356  Android       321    2074   \n",
       "\n",
       "            date  views  clicks    revenue  Deficit  nullUser  mixAssign  \\\n",
       "0     2017-05-09      5       1    0.00000        0         0          0   \n",
       "1     2017-05-09      3       1    0.00000        0         0          0   \n",
       "2     2017-05-10      8       2  114.09041        0         0          0   \n",
       "3     2017-05-12      4       0    0.00000        0         0          0   \n",
       "4     2017-05-08      4       2    0.00000        0         0          0   \n",
       "...          ...    ...     ...        ...      ...       ...        ...   \n",
       "22955 2017-05-18     10       2    0.00000        0         0          0   \n",
       "22956 2017-05-20      6       2    0.00000        0         0          0   \n",
       "22957 2017-05-09      4       1    0.00000        0         0          0   \n",
       "22958 2017-05-13      4       1    0.00000        0         0          0   \n",
       "22959 2017-05-08      2       0    0.00000        0         0          0   \n",
       "\n",
       "       mulUser  mulDev  \n",
       "0            0       0  \n",
       "1            0       0  \n",
       "2            0       0  \n",
       "3            0       0  \n",
       "4            0       0  \n",
       "...        ...     ...  \n",
       "22955        0       0  \n",
       "22956        0       0  \n",
       "22957        0       0  \n",
       "22958        0       0  \n",
       "22959        0       0  \n",
       "\n",
       "[21137 rows x 16 columns]"
      ]
     },
     "execution_count": 47,
     "metadata": {},
     "output_type": "execute_result"
    }
   ],
   "source": [
    "dat"
   ]
  },
  {
   "cell_type": "code",
   "execution_count": 59,
   "metadata": {
    "scrolled": true
   },
   "outputs": [
    {
     "name": "stdout",
     "output_type": "stream",
     "text": [
      "2359 2367 11900 11919\n"
     ]
    },
    {
     "data": {
      "text/plain": [
       "(0.00275424098602548,\n",
       " 0.958145543396146,\n",
       " 1,\n",
       " array([[2361.1150762, 2364.8849238],\n",
       "        [9538.8849238, 9554.1150762]]))"
      ]
     },
     "execution_count": 59,
     "metadata": {},
     "output_type": "execute_result"
    }
   ],
   "source": [
    "# aggregated CTR between treament/control before experiment start\n",
    "x1 = dat_bef.loc[dat_bef['groups']=='control', 'clicks'].sum()\n",
    "x2 = dat_bef.loc[dat_bef['groups']=='treatment', 'clicks'].sum()\n",
    "n1 = dat_bef.loc[dat_bef['groups']=='control', 'views'].sum()\n",
    "n2 = dat_bef.loc[dat_bef['groups']=='treatment', 'views'].sum()\n",
    "print(x1, x2, n1, n2)\n",
    "# 2-sample test for equality of proportions with continuity correction\n",
    "# r doesn't give you a z-score for 2-proportion z tests, it always uses a X2 test statistic. This gives you the same p-value, however.You can perform a regular chi-square test or you can use the function prop.test. For this you just create a frequency table of your data and then use that as your "x".

", 
    "# (x1, x2) out of (n1, n2), two-sides hypothesis test\n",
    "# Attention on the API:\n",
    "# the first argument is 'observed' : array_like, contingency table\n",
    "# It takes in the observed values: np.array([[success1, success2], [failure1, failure2]]) \n",
    "scipy.stats.chi2_contingency(np.array([[x1,x2], [n1-x1, n2-x2]]), correction = True)\n",
    "#(0.00275424098602548, -> chi-squared\n",
    "# 0.958145543396146, -> P value -> the change is not significant on the global scale, we can dive deep to check!\n",
    "# 1, -> Degrees of freedom\n",
    "# array([[2361.1150762, 2364.8849238], -> expected \n",
    "#        [9538.8849238, 9554.1150762]]))"
   ]
  },
  {
   "cell_type": "markdown",
   "metadata": {},
   "source": [
    "__We can conclude with 95% confidence that CTR is comparable before the experiment.__"
   ]
  },
  {
   "cell_type": "markdown",
   "metadata": {},
   "source": [
    "__The peer function in R is prop.test__ <br>\n",
    "Below are three same chi-square: <br>\n",
    "__x1__: # of success in group 1 <br>\n",
    "__x2__: # of success in group 2 <br>\n",
    "__n1__: # of experiments in group 1 <br>\n",
    "__n2__: # of experiments in group 2 <br>\n",
    "__(1) R__: prop.test(x=c(x1, x2), n=c(n1, n2), alternative='two.sided') <br>\n",
    "__(2) R__: prop.test(matrix(c(n1-x1,n2-x2,x1,x2), ncol=2), alternative = 'two.sided') <br>\n",
    "__(3) Python__: scipy.stats.chi2_contingency(np.array([[x1,x2], [n1-x1, n2-x2]]), correction = True) <br>\n"
   ]
  },
  {
   "cell_type": "code",
   "execution_count": 60,
   "metadata": {},
   "outputs": [
    {
     "data": {
      "text/plain": [
       "groups     device \n",
       "control    Android    0.308344\n",
       "           Ios        0.203927\n",
       "           Other      0.201696\n",
       "           Web        0.286033\n",
       "treatment  Android    0.317453\n",
       "           Ios        0.197685\n",
       "           Other      0.206589\n",
       "           Web        0.278272\n",
       "Name: device, dtype: float64"
      ]
     },
     "execution_count": 60,
     "metadata": {},
     "output_type": "execute_result"
    }
   ],
   "source": [
    "# compare other fields -> for example, device\n",
    "dat_bef.groupby(['groups', 'device'])['device'].count().groupby(level=0).apply(lambda x: x / x.sum()) # no dramatic diff"
   ]
  },
  {
   "cell_type": "code",
   "execution_count": 61,
   "metadata": {},
   "outputs": [
    {
     "data": {
      "text/plain": [
       "groups     country\n",
       "control    CA         0.199018\n",
       "           CN         0.192771\n",
       "           GB         0.217314\n",
       "           US         0.390897\n",
       "treatment  CA         0.207035\n",
       "           CN         0.202137\n",
       "           GB         0.197685\n",
       "           US         0.393143\n",
       "Name: country, dtype: float64"
      ]
     },
     "execution_count": 61,
     "metadata": {},
     "output_type": "execute_result"
    }
   ],
   "source": [
    "# compare other fields -> for example, country\n",
    "dat_bef.groupby(['groups', 'country'])['country'].count().groupby(level=0).apply(lambda x: x / x.sum()) # no dramatic diff"
   ]
  },
  {
   "cell_type": "code",
   "execution_count": 51,
   "metadata": {},
   "outputs": [
    {
     "data": {
      "text/plain": [
       "(16650, 16)"
      ]
     },
     "execution_count": 51,
     "metadata": {},
     "output_type": "execute_result"
    }
   ],
   "source": [
    "# Day 4 + (after experiemnt)\n",
    "dat_aft = dat.loc[dat['date']>=experiment_date,:]\n",
    "dat_aft.shape "
   ]
  },
  {
   "cell_type": "markdown",
   "metadata": {},
   "source": [
    "### 4. Hypothesis Testing"
   ]
  },
  {
   "cell_type": "code",
   "execution_count": 59,
   "metadata": {},
   "outputs": [],
   "source": [
    "from scipy import stats"
   ]
  },
  {
   "cell_type": "code",
   "execution_count": 60,
   "metadata": {},
   "outputs": [
    {
     "name": "stdout",
     "output_type": "stream",
     "text": [
      "9933 10209 49210 49471\n"
     ]
    },
    {
     "data": {
      "text/plain": [
       "(3.066794164712745,\n",
       " 0.07990690688697542,\n",
       " 1,\n",
       " array([[10044.36335262, 10097.63664738],\n",
       "        [39165.63664738, 39373.36335262]]))"
      ]
     },
     "execution_count": 60,
     "metadata": {},
     "output_type": "execute_result"
    }
   ],
   "source": [
    "# Hypothesis Testing\n",
    "# aggregated CTR between treament/control after experiment start\n",
    "x1 = dat_aft.loc[dat_aft['groups']=='control', 'clicks'].sum()\n",
    "x2 = dat_aft.loc[dat_aft['groups']=='treatment', 'clicks'].sum()\n",
    "n1 = dat_aft.loc[dat_aft['groups']=='control', 'views'].sum()\n",
    "n2 = dat_aft.loc[dat_aft['groups']=='treatment', 'views'].sum()\n",
    "print(x1, x2, n1, n2)\n",
    "# 2-sample test for equality of proportions with continuity correction\n",
    "# (x1, x2) out of (n1, n2), two-sides hypothesis test\n",
    "# Attention on the API:\n",
    "# the first argument is 'observed' : array_like, contingency table\n",
    "# It takes in the observed values: np.array([[success1, success2], [failure1, failure2]]) \n",
    "stats.chi2_contingency(np.array([[x1,x2], [n1-x1,n2-x2]]), correction = True)\n",
    "#(3.066794164712745, -> chi-squared\n",
    "# 0.07990690688697542, -> P value -> the change is not significant on the global scale, we can dive deep to check!\n",
    "# 1, -> Degrees of freedom\n",
    "# array([[10044.36335262, 10097.63664738], -> expected \n",
    "#        [39165.63664738, 39373.36335262]]))"
   ]
  },
  {
   "cell_type": "markdown",
   "metadata": {},
   "source": [
    "p value = 0.7991, almost reject, we can check p values per sub-group by device and by country"
   ]
  },
  {
   "cell_type": "code",
   "execution_count": 61,
   "metadata": {},
   "outputs": [
    {
     "data": {
      "text/plain": [
       "groups     device \n",
       "control    Android    0.295359\n",
       "           Ios        0.206751\n",
       "           Other      0.202532\n",
       "           Web        0.295359\n",
       "treatment  Android    0.316218\n",
       "           Ios        0.190425\n",
       "           Other      0.205386\n",
       "           Web        0.287971\n",
       "Name: device, dtype: float64"
      ]
     },
     "execution_count": 61,
     "metadata": {},
     "output_type": "execute_result"
    }
   ],
   "source": [
    "# compare other fields -> for example, device\n",
    "dat_aft.groupby(['groups', 'device'])['device'].count().groupby(level=0).apply(lambda x: x / x.sum()) # no dramatic diff"
   ]
  },
  {
   "cell_type": "code",
   "execution_count": 62,
   "metadata": {},
   "outputs": [
    {
     "data": {
      "text/plain": [
       "groups     country\n",
       "control    CA         0.193972\n",
       "           CN         0.203134\n",
       "           GB         0.199638\n",
       "           US         0.403255\n",
       "treatment  CA         0.197965\n",
       "           CN         0.197846\n",
       "           GB         0.203232\n",
       "           US         0.400958\n",
       "Name: country, dtype: float64"
      ]
     },
     "execution_count": 62,
     "metadata": {},
     "output_type": "execute_result"
    }
   ],
   "source": [
    "# compare other fields -> for example, country\n",
    "dat_aft.groupby(['groups', 'country'])['country'].count().groupby(level=0).apply(lambda x: x / x.sum()) # no dramatic diff"
   ]
  },
  {
   "cell_type": "code",
   "execution_count": 63,
   "metadata": {},
   "outputs": [],
   "source": [
    "# dive deep by group level, no longer on global scale\n",
    "def test_by_subgroup(data, col, val):\n",
    "    \"\"\"\n",
    "    type data: pandas dataframe\n",
    "    type col: string\n",
    "    type val: string or number\n",
    "    rtype: tuple of values\n",
    "    \"\"\"\n",
    "    data_use = data.loc[data[col]==val, :]\n",
    "    x1 = data_use.loc[data_use['groups']=='control', 'clicks'].sum()\n",
    "    x2 = data_use.loc[data_use['groups']=='treatment', 'clicks'].sum()\n",
    "    n1 = data_use.loc[data_use['groups']=='control', 'views'].sum()\n",
    "    n2 = data_use.loc[data_use['groups']=='treatment', 'views'].sum()\n",
    "    return(scipy.stats.chi2_contingency(np.array([[x1,x2], [n1-x1,n2-x2]]), correction = True))"
   ]
  },
  {
   "cell_type": "code",
   "execution_count": 64,
   "metadata": {},
   "outputs": [
    {
     "data": {
      "text/html": [
       "<div>\n",
       "<style scoped>\n",
       "    .dataframe tbody tr th:only-of-type {\n",
       "        vertical-align: middle;\n",
       "    }\n",
       "\n",
       "    .dataframe tbody tr th {\n",
       "        vertical-align: top;\n",
       "    }\n",
       "\n",
       "    .dataframe thead th {\n",
       "        text-align: right;\n",
       "    }\n",
       "</style>\n",
       "<table border=\"1\" class=\"dataframe\">\n",
       "  <thead>\n",
       "    <tr style=\"text-align: right;\">\n",
       "      <th></th>\n",
       "      <th>country</th>\n",
       "      <th>chi2 test statistics</th>\n",
       "      <th>P-value</th>\n",
       "      <th>DF</th>\n",
       "    </tr>\n",
       "  </thead>\n",
       "  <tbody>\n",
       "    <tr>\n",
       "      <th>0</th>\n",
       "      <td>US</td>\n",
       "      <td>0.930288</td>\n",
       "      <td>0.334788</td>\n",
       "      <td>1</td>\n",
       "    </tr>\n",
       "    <tr>\n",
       "      <th>1</th>\n",
       "      <td>CN</td>\n",
       "      <td>0.756994</td>\n",
       "      <td>0.384271</td>\n",
       "      <td>1</td>\n",
       "    </tr>\n",
       "    <tr>\n",
       "      <th>2</th>\n",
       "      <td>GB</td>\n",
       "      <td>2.250526</td>\n",
       "      <td>0.133569</td>\n",
       "      <td>1</td>\n",
       "    </tr>\n",
       "    <tr>\n",
       "      <th>3</th>\n",
       "      <td>CA</td>\n",
       "      <td>3.578450</td>\n",
       "      <td>0.058534</td>\n",
       "      <td>1</td>\n",
       "    </tr>\n",
       "  </tbody>\n",
       "</table>\n",
       "</div>"
      ],
      "text/plain": [
       "  country  chi2 test statistics   P-value  DF\n",
       "0      US              0.930288  0.334788   1\n",
       "1      CN              0.756994  0.384271   1\n",
       "2      GB              2.250526  0.133569   1\n",
       "3      CA              3.578450  0.058534   1"
      ]
     },
     "execution_count": 64,
     "metadata": {},
     "output_type": "execute_result"
    }
   ],
   "source": [
    "# iterate through values in country and device\n",
    "# country\n",
    "test_by_country = list()\n",
    "for i in dat_aft['country'].unique():\n",
    "    test_by_country.append([i]+list(test_by_subgroup(dat_aft, 'country', i))[0:3])\n",
    "# convert list to pandas for viz\n",
    "test_by_country = pd.DataFrame(test_by_country, columns = ['country', 'chi2 test statistics', 'P-value', 'DF'])\n",
    "test_by_country\n",
    "# It seems that CA has a relatively significant difference"
   ]
  },
  {
   "cell_type": "code",
   "execution_count": 65,
   "metadata": {},
   "outputs": [
    {
     "data": {
      "text/html": [
       "<div>\n",
       "<style scoped>\n",
       "    .dataframe tbody tr th:only-of-type {\n",
       "        vertical-align: middle;\n",
       "    }\n",
       "\n",
       "    .dataframe tbody tr th {\n",
       "        vertical-align: top;\n",
       "    }\n",
       "\n",
       "    .dataframe thead th {\n",
       "        text-align: right;\n",
       "    }\n",
       "</style>\n",
       "<table border=\"1\" class=\"dataframe\">\n",
       "  <thead>\n",
       "    <tr style=\"text-align: right;\">\n",
       "      <th></th>\n",
       "      <th>device</th>\n",
       "      <th>chi2 test statistics</th>\n",
       "      <th>P-value</th>\n",
       "      <th>DF</th>\n",
       "    </tr>\n",
       "  </thead>\n",
       "  <tbody>\n",
       "    <tr>\n",
       "      <th>0</th>\n",
       "      <td>Ios</td>\n",
       "      <td>12.838918</td>\n",
       "      <td>0.000339</td>\n",
       "      <td>1</td>\n",
       "    </tr>\n",
       "    <tr>\n",
       "      <th>1</th>\n",
       "      <td>Other</td>\n",
       "      <td>0.385177</td>\n",
       "      <td>0.534846</td>\n",
       "      <td>1</td>\n",
       "    </tr>\n",
       "    <tr>\n",
       "      <th>2</th>\n",
       "      <td>Web</td>\n",
       "      <td>0.497695</td>\n",
       "      <td>0.480515</td>\n",
       "      <td>1</td>\n",
       "    </tr>\n",
       "    <tr>\n",
       "      <th>3</th>\n",
       "      <td>Android</td>\n",
       "      <td>0.732704</td>\n",
       "      <td>0.392008</td>\n",
       "      <td>1</td>\n",
       "    </tr>\n",
       "  </tbody>\n",
       "</table>\n",
       "</div>"
      ],
      "text/plain": [
       "    device  chi2 test statistics   P-value  DF\n",
       "0      Ios             12.838918  0.000339   1\n",
       "1    Other              0.385177  0.534846   1\n",
       "2      Web              0.497695  0.480515   1\n",
       "3  Android              0.732704  0.392008   1"
      ]
     },
     "execution_count": 65,
     "metadata": {},
     "output_type": "execute_result"
    }
   ],
   "source": [
    "# device\n",
    "test_by_device = list()\n",
    "for i in dat_aft['device'].unique():\n",
    "    test_by_device.append([i]+list(test_by_subgroup(dat_aft, 'device', i))[0:3])\n",
    "# convert list to pandas for viz\n",
    "test_by_device = pd.DataFrame(test_by_device, columns = ['device', 'chi2 test statistics', 'P-value', 'DF'])\n",
    "test_by_device\n",
    "# Ios is significant different! Discuss with Engineering team and Product Management team.\n",
    "# Is this a engineering bug? Or is it really because of the difference across platforms?\n",
    "# Dive deep! or do changes on ios only"
   ]
  },
  {
   "cell_type": "markdown",
   "metadata": {},
   "source": [
    "### 5. Revenue"
   ]
  },
  {
   "cell_type": "code",
   "execution_count": 126,
   "metadata": {},
   "outputs": [
    {
     "data": {
      "image/png": "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\n",
      "text/plain": [
       "<Figure size 432x288 with 1 Axes>"
      ]
     },
     "metadata": {
      "needs_background": "light"
     },
     "output_type": "display_data"
    }
   ],
   "source": [
    "# Quick Histogram of Revenue \n",
    "plt.hist(dat['revenue'], bins = 30)\n",
    "plt.xlabel('Revenue')\n",
    "plt.ylabel('Frequency')\n",
    "plt.title('Histogram of Revenue')\n",
    "plt.show() # Highly right skewed"
   ]
  },
  {
   "cell_type": "code",
   "execution_count": 70,
   "metadata": {},
   "outputs": [
    {
     "name": "stdout",
     "output_type": "stream",
     "text": [
      "89.01 % of records contain 0 revenue.\n"
     ]
    }
   ],
   "source": [
    "# Porportion of Revenue = 0\n",
    "print(round(100*sum(dat.revenue==0)/dat.shape[0],2), '% of records contain 0 revenue.') # 89%"
   ]
  },
  {
   "cell_type": "markdown",
   "metadata": {},
   "source": [
    "The **Revenue** is usually highly skewed and a big proportion is actually **Revenue = 0**. <br>\n",
    "\n",
    "**Solutions when data is highly skewed or statistics is hard to approximate with CLT?** <br>\n",
    "For exammple:<br>\n",
    "1. Metrics like revenue is highly skewed & have outliers; <br>\n",
    "2. In risk and fraud, most transactions have no loss while some fraud transactions have very high loss; <br>\n",
    "\n",
    "* Transformation (hard to interpret); <br>\n",
    "* Winsorization / Capping <br>\n",
    "* Bootstrap <br>"
   ]
  },
  {
   "cell_type": "code",
   "execution_count": 69,
   "metadata": {},
   "outputs": [],
   "source": [
    "import matplotlib.pyplot as plt"
   ]
  },
  {
   "cell_type": "code",
   "execution_count": 70,
   "metadata": {},
   "outputs": [
    {
     "data": {
      "image/png": "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\n",
      "text/plain": [
       "<Figure size 432x288 with 1 Axes>"
      ]
     },
     "metadata": {
      "needs_background": "light"
     },
     "output_type": "display_data"
    }
   ],
   "source": [
    "# Quick Histogram of None-Zero Revenue \n",
    "plt.hist(dat['revenue'][dat.revenue!=0], bins = 30)\n",
    "plt.xlabel('Revenue')\n",
    "plt.ylabel('Frequency')\n",
    "plt.title('Histogram of Revenue')\n",
    "plt.show() # Still highly right skewed"
   ]
  },
  {
   "cell_type": "code",
   "execution_count": 71,
   "metadata": {},
   "outputs": [],
   "source": [
    "# winsorization, capping\n",
    "bound = np.percentile(dat['revenue'][dat.revenue!=0], 99.9) # values over 99% Percentile, set to 99% Percentile\n",
    "Revenue = dat['revenue'][dat.revenue!=0]\n",
    "Revenue[Revenue>bound] = bound"
   ]
  },
  {
   "cell_type": "code",
   "execution_count": 72,
   "metadata": {},
   "outputs": [
    {
     "data": {
      "text/plain": [
       "2        114.090410\n",
       "26        88.600718\n",
       "39       192.331493\n",
       "50       106.405620\n",
       "51       120.117165\n",
       "            ...    \n",
       "22912    114.129855\n",
       "22915     66.481309\n",
       "22938     61.115110\n",
       "22944     59.963612\n",
       "22946     91.089125\n",
       "Name: revenue, Length: 2323, dtype: float64"
      ]
     },
     "execution_count": 72,
     "metadata": {},
     "output_type": "execute_result"
    }
   ],
   "source": [
    "Revenue"
   ]
  },
  {
   "cell_type": "code",
   "execution_count": 73,
   "metadata": {},
   "outputs": [
    {
     "name": "stdout",
     "output_type": "stream",
     "text": [
      "108.63033901551618 1.0179844498527373\n"
     ]
    }
   ],
   "source": [
    "# Method 1: use CLT for estimator, distribution of Mean Revenue\n",
    "E_mean = np.mean(Revenue)\n",
    "E_var = np.var(Revenue)/len(Revenue)\n",
    "print(E_mean, E_var)"
   ]
  },
  {
   "cell_type": "code",
   "execution_count": 133,
   "metadata": {},
   "outputs": [
    {
     "name": "stdout",
     "output_type": "stream",
     "text": [
      "108.59174475002658 1.0097683404967555\n"
     ]
    }
   ],
   "source": [
    "# Method 2: use bootstrap for estimator, distribution of Mean Revenue\n",
    "# Bootstrap is a resampling method. \n",
    "# It can be used to estimate sampling distribution of any statistics, \n",
    "# commonly used in estimating CI & P-value & statistics with complex or no close-form estimator;\n",
    "btsample = list()\n",
    "for i in range(1000):\n",
    "    btsample.append(np.mean([random.choice(list(Revenue)) for j in range(len(Revenue))]))\n",
    "bt_mean = np.mean(btsample)\n",
    "bt_var = np.var(btsample)\n",
    "print(bt_mean, bt_var)"
   ]
  },
  {
   "cell_type": "code",
   "execution_count": 134,
   "metadata": {},
   "outputs": [
    {
     "name": "stdout",
     "output_type": "stream",
     "text": [
      "133.2402439265657 2.0370691294061807\n"
     ]
    }
   ],
   "source": [
    "# Method 2+: use bootstrap for estimator, distribution of 90% Percentile Revenue, CLT is not application except for mean estimate\n",
    "btsample = list()\n",
    "for i in range(1000):\n",
    "    btsample.append(np.percentile([random.choice(list(Revenue)) for j in range(len(Revenue))], 90))\n",
    "bt_90pt_mean = np.mean(btsample)\n",
    "bt_90pt_var = np.var(btsample)\n",
    "print(bt_90pt_mean, bt_90pt_var)"
   ]
  },
  {
   "cell_type": "markdown",
   "metadata": {},
   "source": [
    "### 6. Result Analysis"
   ]
  },
  {
   "cell_type": "markdown",
   "metadata": {},
   "source": [
    "In this part we will be doing: <br>\n",
    "* __Regression Adjustment__ <br>\n",
    "    Y_post = beta_pre * Y_pre + beta_t * Treatment_Group <br>\n",
    "    <br>\n",
    "* __Diff-in-Diff Comparisons__<br>\n",
    "    (Y_post/t - Y_pre/t) - (Y_post/c - Y_pre/c) \n",
    "\n",
    "We had the assumption that the A/B groups have no difference before experiment. What if it does exist difference? __Use detrended (bias removed) numbers to put into test models;__"
   ]
  },
  {
   "cell_type": "code",
   "execution_count": 97,
   "metadata": {},
   "outputs": [],
   "source": [
    "import statsmodels.api as sm"
   ]
  },
  {
   "cell_type": "code",
   "execution_count": 75,
   "metadata": {},
   "outputs": [
    {
     "name": "stderr",
     "output_type": "stream",
     "text": [
      "/Library/Frameworks/Python.framework/Versions/3.8/lib/python3.8/site-packages/pandas/core/indexing.py:494: SettingWithCopyWarning: \n",
      "A value is trying to be set on a copy of a slice from a DataFrame.\n",
      "Try using .loc[row_indexer,col_indexer] = value instead\n",
      "\n",
      "See the caveats in the documentation: http://pandas.pydata.org/pandas-docs/stable/user_guide/indexing.html#returning-a-view-versus-a-copy\n",
      "  self.obj[item] = s\n"
     ]
    }
   ],
   "source": [
    "# Let's set the bound to be 99.9% percentile\n",
    "# we use 99.9 percentile as bound in revenue > 0\n",
    "bound = np.percentile(dat['revenue'][dat.revenue!=0], 99.9)\n",
    "dat_bef.loc[dat_bef.revenue>bound, 'revenue'] = bound\n",
    "dat_aft.loc[dat_aft.revenue>bound, 'revenue'] = bound"
   ]
  },
  {
   "cell_type": "code",
   "execution_count": 86,
   "metadata": {},
   "outputs": [
    {
     "data": {
      "text/plain": [
       "Ttest_indResult(statistic=1.374603111674076, pvalue=0.1692730714744911)"
      ]
     },
     "execution_count": 86,
     "metadata": {},
     "output_type": "execute_result"
    }
   ],
   "source": [
    "# Regular t test\n",
    "ctrl_revenue = dat_aft.loc[dat_aft.groups == 'control', 'revenue']\n",
    "test_revenue = dat_aft.loc[dat_aft.groups == 'treatment', 'revenue']\n",
    "scipy.stats.ttest_ind(np.array(ctrl_revenue), np.array(test_revenue), equal_var = False)\n",
    "# result is the mean revenue (including 0) doesn't change significantly after the experiment, \n",
    "# when only looking at dat_aft (not considering pre-bias)"
   ]
  },
  {
   "cell_type": "code",
   "execution_count": 87,
   "metadata": {},
   "outputs": [
    {
     "data": {
      "text/plain": [
       "12.739290845589798"
      ]
     },
     "execution_count": 87,
     "metadata": {},
     "output_type": "execute_result"
    }
   ],
   "source": [
    "np.mean(ctrl_revenue)"
   ]
  },
  {
   "cell_type": "code",
   "execution_count": 88,
   "metadata": {},
   "outputs": [
    {
     "data": {
      "text/plain": [
       "11.93258117161652"
      ]
     },
     "execution_count": 88,
     "metadata": {},
     "output_type": "execute_result"
    }
   ],
   "source": [
    "np.mean(test_revenue)"
   ]
  },
  {
   "cell_type": "code",
   "execution_count": 90,
   "metadata": {},
   "outputs": [
    {
     "data": {
      "text/plain": [
       "userid  country  device   groups   \n",
       "1002.0  US       Android  treatment    104.33132\n",
       "1003.0  CA       Other    control        0.00000\n",
       "1008.0  US       Web      control        0.00000\n",
       "1009.0  US       Web      control        0.00000\n",
       "1011.0  CA       Web      control        0.00000\n",
       "                                         ...    \n",
       "9990.0  US       Android  control        0.00000\n",
       "9991.0  US       Android  treatment      0.00000\n",
       "9996.0  CN       Android  treatment      0.00000\n",
       "9998.0  US       Web      control        0.00000\n",
       "9999.0  GB       Web      treatment      0.00000\n",
       "Name: revenue, Length: 3661, dtype: float64"
      ]
     },
     "execution_count": 90,
     "metadata": {},
     "output_type": "execute_result"
    }
   ],
   "source": [
    "dat_bef.groupby(['userid', 'country', 'device', 'groups'])['revenue'].sum()"
   ]
  },
  {
   "cell_type": "code",
   "execution_count": 100,
   "metadata": {},
   "outputs": [
    {
     "data": {
      "text/plain": [
       "userid   country  device   groups   \n",
       "1000.0   US       Android  control      295.685606\n",
       "1001.0   CA       Other    treatment      0.000000\n",
       "1003.0   CA       Other    control        0.000000\n",
       "1005.0   US       Android  treatment    200.472255\n",
       "1006.0   CA       Ios      treatment      0.000000\n",
       "                                           ...    \n",
       "9996.0   CN       Android  treatment      0.000000\n",
       "9997.0   US       Web      control       93.596659\n",
       "9998.0   US       Web      control        0.000000\n",
       "9999.0   GB       Web      treatment      0.000000\n",
       "10000.0  US       Other    treatment    114.986399\n",
       "Name: revenue, Length: 6903, dtype: float64"
      ]
     },
     "execution_count": 100,
     "metadata": {},
     "output_type": "execute_result"
    }
   ],
   "source": [
    "dat_aft.groupby(['userid', 'country', 'device', 'groups'])['revenue'].sum()"
   ]
  },
  {
   "cell_type": "code",
   "execution_count": null,
   "metadata": {},
   "outputs": [],
   "source": []
  },
  {
   "cell_type": "code",
   "execution_count": 107,
   "metadata": {},
   "outputs": [],
   "source": [
    "# There might be some bias prior to experiment start\n",
    "# Assuming the change happens instantly, no learning effect, then it is fine to do same-weight ensemble\n",
    "# 1. avg daily revenue of each user before experiment\n",
    "daily_rev_pre = dat_bef.groupby(['userid', 'country', 'device', 'groups'])['revenue'].sum()/3\n",
    "daily_rev_pre = daily_rev_pre.to_frame().reset_index().set_index('userid')\n",
    "# 2. avg daily revenue of each user after experiment\n",
    "daily_rev_post = dat_aft.groupby(['userid', 'country', 'device', 'groups'])['revenue'].sum()/11\n",
    "daily_rev_post = daily_rev_post.to_frame().reset_index().set_index('userid')\n",
    "# 3. daily revenue (index: userid, col1: rev_pre, col2: rev_post)\n",
    "# left join here. Post on the left, depends on the interpretation;\n",
    "# Personally, I think inner join make better sense here. \n",
    "daily_rev = pd.merge(daily_rev_post , daily_rev_pre, left_index=True, right_index=True, how='left')\n",
    "daily_rev.loc[daily_rev.revenue_y.isnull() ,'revenue_y'] = 0 # fill in missing value"
   ]
  },
  {
   "cell_type": "code",
   "execution_count": 109,
   "metadata": {},
   "outputs": [
    {
     "data": {
      "text/html": [
       "<div>\n",
       "<style scoped>\n",
       "    .dataframe tbody tr th:only-of-type {\n",
       "        vertical-align: middle;\n",
       "    }\n",
       "\n",
       "    .dataframe tbody tr th {\n",
       "        vertical-align: top;\n",
       "    }\n",
       "\n",
       "    .dataframe thead th {\n",
       "        text-align: right;\n",
       "    }\n",
       "</style>\n",
       "<table border=\"1\" class=\"dataframe\">\n",
       "  <thead>\n",
       "    <tr style=\"text-align: right;\">\n",
       "      <th></th>\n",
       "      <th>revenue_x</th>\n",
       "      <th>revenue_y</th>\n",
       "      <th>groups_x_treatment</th>\n",
       "      <th>country_x_CN</th>\n",
       "      <th>country_x_GB</th>\n",
       "      <th>country_x_US</th>\n",
       "      <th>device_x_Ios</th>\n",
       "      <th>device_x_Other</th>\n",
       "      <th>device_x_Web</th>\n",
       "      <th>intercept</th>\n",
       "    </tr>\n",
       "    <tr>\n",
       "      <th>userid</th>\n",
       "      <th></th>\n",
       "      <th></th>\n",
       "      <th></th>\n",
       "      <th></th>\n",
       "      <th></th>\n",
       "      <th></th>\n",
       "      <th></th>\n",
       "      <th></th>\n",
       "      <th></th>\n",
       "      <th></th>\n",
       "    </tr>\n",
       "  </thead>\n",
       "  <tbody>\n",
       "    <tr>\n",
       "      <th>1000.0</th>\n",
       "      <td>26.88051</td>\n",
       "      <td>0.0</td>\n",
       "      <td>0</td>\n",
       "      <td>0</td>\n",
       "      <td>0</td>\n",
       "      <td>1</td>\n",
       "      <td>0</td>\n",
       "      <td>0</td>\n",
       "      <td>0</td>\n",
       "      <td>1</td>\n",
       "    </tr>\n",
       "    <tr>\n",
       "      <th>1001.0</th>\n",
       "      <td>0.00000</td>\n",
       "      <td>0.0</td>\n",
       "      <td>1</td>\n",
       "      <td>0</td>\n",
       "      <td>0</td>\n",
       "      <td>0</td>\n",
       "      <td>0</td>\n",
       "      <td>1</td>\n",
       "      <td>0</td>\n",
       "      <td>1</td>\n",
       "    </tr>\n",
       "    <tr>\n",
       "      <th>1003.0</th>\n",
       "      <td>0.00000</td>\n",
       "      <td>0.0</td>\n",
       "      <td>0</td>\n",
       "      <td>0</td>\n",
       "      <td>0</td>\n",
       "      <td>0</td>\n",
       "      <td>0</td>\n",
       "      <td>1</td>\n",
       "      <td>0</td>\n",
       "      <td>1</td>\n",
       "    </tr>\n",
       "    <tr>\n",
       "      <th>1005.0</th>\n",
       "      <td>18.22475</td>\n",
       "      <td>0.0</td>\n",
       "      <td>1</td>\n",
       "      <td>0</td>\n",
       "      <td>0</td>\n",
       "      <td>1</td>\n",
       "      <td>0</td>\n",
       "      <td>0</td>\n",
       "      <td>0</td>\n",
       "      <td>1</td>\n",
       "    </tr>\n",
       "    <tr>\n",
       "      <th>1006.0</th>\n",
       "      <td>0.00000</td>\n",
       "      <td>0.0</td>\n",
       "      <td>1</td>\n",
       "      <td>0</td>\n",
       "      <td>0</td>\n",
       "      <td>0</td>\n",
       "      <td>1</td>\n",
       "      <td>0</td>\n",
       "      <td>0</td>\n",
       "      <td>1</td>\n",
       "    </tr>\n",
       "  </tbody>\n",
       "</table>\n",
       "</div>"
      ],
      "text/plain": [
       "        revenue_x  revenue_y  groups_x_treatment  country_x_CN  country_x_GB  \\\n",
       "userid                                                                         \n",
       "1000.0   26.88051        0.0                   0             0             0   \n",
       "1001.0    0.00000        0.0                   1             0             0   \n",
       "1003.0    0.00000        0.0                   0             0             0   \n",
       "1005.0   18.22475        0.0                   1             0             0   \n",
       "1006.0    0.00000        0.0                   1             0             0   \n",
       "\n",
       "        country_x_US  device_x_Ios  device_x_Other  device_x_Web  intercept  \n",
       "userid                                                                       \n",
       "1000.0             1             0               0             0          1  \n",
       "1001.0             0             0               1             0          1  \n",
       "1003.0             0             0               1             0          1  \n",
       "1005.0             1             0               0             0          1  \n",
       "1006.0             0             1               0             0          1  "
      ]
     },
     "execution_count": 109,
     "metadata": {},
     "output_type": "execute_result"
    }
   ],
   "source": [
    "# Regression Adjustment pre diff\n",
    "# create dummy for daily_rev\n",
    "daily_rev = pd.get_dummies(daily_rev[['groups_x', 'country_x', 'device_x', 'revenue_x', 'revenue_y']], drop_first = True)\n",
    "daily_rev['intercept'] = 1 # Note, if we don't have the intercept, statsmodels will by default has not intercept\n",
    "daily_rev.head()"
   ]
  },
  {
   "cell_type": "code",
   "execution_count": 98,
   "metadata": {},
   "outputs": [
    {
     "data": {
      "text/html": [
       "<table class=\"simpletable\">\n",
       "<caption>OLS Regression Results</caption>\n",
       "<tr>\n",
       "  <th>Dep. Variable:</th>        <td>revenue_x</td>    <th>  R-squared:         </th> <td>   0.001</td> \n",
       "</tr>\n",
       "<tr>\n",
       "  <th>Model:</th>                   <td>OLS</td>       <th>  Adj. R-squared:    </th> <td>   0.000</td> \n",
       "</tr>\n",
       "<tr>\n",
       "  <th>Method:</th>             <td>Least Squares</td>  <th>  F-statistic:       </th> <td>   1.171</td> \n",
       "</tr>\n",
       "<tr>\n",
       "  <th>Date:</th>             <td>Sun, 07 Mar 2021</td> <th>  Prob (F-statistic):</th>  <td> 0.313</td>  \n",
       "</tr>\n",
       "<tr>\n",
       "  <th>Time:</th>                 <td>18:13:15</td>     <th>  Log-Likelihood:    </th> <td> -21617.</td> \n",
       "</tr>\n",
       "<tr>\n",
       "  <th>No. Observations:</th>      <td>  6903</td>      <th>  AIC:               </th> <td>4.325e+04</td>\n",
       "</tr>\n",
       "<tr>\n",
       "  <th>Df Residuals:</th>          <td>  6894</td>      <th>  BIC:               </th> <td>4.331e+04</td>\n",
       "</tr>\n",
       "<tr>\n",
       "  <th>Df Model:</th>              <td>     8</td>      <th>                     </th>     <td> </td>    \n",
       "</tr>\n",
       "<tr>\n",
       "  <th>Covariance Type:</th>      <td>nonrobust</td>    <th>                     </th>     <td> </td>    \n",
       "</tr>\n",
       "</table>\n",
       "<table class=\"simpletable\">\n",
       "<tr>\n",
       "           <td></td>             <th>coef</th>     <th>std err</th>      <th>t</th>      <th>P>|t|</th>  <th>[0.025</th>    <th>0.975]</th>  \n",
       "</tr>\n",
       "<tr>\n",
       "  <th>revenue_y</th>          <td>    0.0071</td> <td>    0.007</td> <td>    1.057</td> <td> 0.291</td> <td>   -0.006</td> <td>    0.020</td>\n",
       "</tr>\n",
       "<tr>\n",
       "  <th>groups_x_treatment</th> <td>   -0.2011</td> <td>    0.134</td> <td>   -1.505</td> <td> 0.132</td> <td>   -0.463</td> <td>    0.061</td>\n",
       "</tr>\n",
       "<tr>\n",
       "  <th>country_x_CN</th>       <td>   -0.0362</td> <td>    0.211</td> <td>   -0.172</td> <td> 0.864</td> <td>   -0.450</td> <td>    0.378</td>\n",
       "</tr>\n",
       "<tr>\n",
       "  <th>country_x_GB</th>       <td>    0.1047</td> <td>    0.211</td> <td>    0.496</td> <td> 0.620</td> <td>   -0.309</td> <td>    0.519</td>\n",
       "</tr>\n",
       "<tr>\n",
       "  <th>country_x_US</th>       <td>   -0.1176</td> <td>    0.184</td> <td>   -0.640</td> <td> 0.522</td> <td>   -0.478</td> <td>    0.243</td>\n",
       "</tr>\n",
       "<tr>\n",
       "  <th>device_x_Ios</th>       <td>   -0.0417</td> <td>    0.193</td> <td>   -0.216</td> <td> 0.829</td> <td>   -0.419</td> <td>    0.336</td>\n",
       "</tr>\n",
       "<tr>\n",
       "  <th>device_x_Other</th>     <td>   -0.0418</td> <td>    0.191</td> <td>   -0.219</td> <td> 0.827</td> <td>   -0.417</td> <td>    0.333</td>\n",
       "</tr>\n",
       "<tr>\n",
       "  <th>device_x_Web</th>       <td>   -0.3346</td> <td>    0.172</td> <td>   -1.941</td> <td> 0.052</td> <td>   -0.672</td> <td>    0.003</td>\n",
       "</tr>\n",
       "<tr>\n",
       "  <th>intercept</th>          <td>    2.9385</td> <td>    0.194</td> <td>   15.120</td> <td> 0.000</td> <td>    2.557</td> <td>    3.319</td>\n",
       "</tr>\n",
       "</table>\n",
       "<table class=\"simpletable\">\n",
       "<tr>\n",
       "  <th>Omnibus:</th>       <td>4442.813</td> <th>  Durbin-Watson:     </th> <td>   1.988</td> \n",
       "</tr>\n",
       "<tr>\n",
       "  <th>Prob(Omnibus):</th>  <td> 0.000</td>  <th>  Jarque-Bera (JB):  </th> <td>70387.010</td>\n",
       "</tr>\n",
       "<tr>\n",
       "  <th>Skew:</th>           <td> 2.855</td>  <th>  Prob(JB):          </th> <td>    0.00</td> \n",
       "</tr>\n",
       "<tr>\n",
       "  <th>Kurtosis:</th>       <td>17.564</td>  <th>  Cond. No.          </th> <td>    50.8</td> \n",
       "</tr>\n",
       "</table><br/><br/>Notes:<br/>[1] Standard Errors assume that the covariance matrix of the errors is correctly specified."
      ],
      "text/plain": [
       "<class 'statsmodels.iolib.summary.Summary'>\n",
       "\"\"\"\n",
       "                            OLS Regression Results                            \n",
       "==============================================================================\n",
       "Dep. Variable:              revenue_x   R-squared:                       0.001\n",
       "Model:                            OLS   Adj. R-squared:                  0.000\n",
       "Method:                 Least Squares   F-statistic:                     1.171\n",
       "Date:                Sun, 07 Mar 2021   Prob (F-statistic):              0.313\n",
       "Time:                        18:13:15   Log-Likelihood:                -21617.\n",
       "No. Observations:                6903   AIC:                         4.325e+04\n",
       "Df Residuals:                    6894   BIC:                         4.331e+04\n",
       "Df Model:                           8                                         \n",
       "Covariance Type:            nonrobust                                         \n",
       "======================================================================================\n",
       "                         coef    std err          t      P>|t|      [0.025      0.975]\n",
       "--------------------------------------------------------------------------------------\n",
       "revenue_y              0.0071      0.007      1.057      0.291      -0.006       0.020\n",
       "groups_x_treatment    -0.2011      0.134     -1.505      0.132      -0.463       0.061\n",
       "country_x_CN          -0.0362      0.211     -0.172      0.864      -0.450       0.378\n",
       "country_x_GB           0.1047      0.211      0.496      0.620      -0.309       0.519\n",
       "country_x_US          -0.1176      0.184     -0.640      0.522      -0.478       0.243\n",
       "device_x_Ios          -0.0417      0.193     -0.216      0.829      -0.419       0.336\n",
       "device_x_Other        -0.0418      0.191     -0.219      0.827      -0.417       0.333\n",
       "device_x_Web          -0.3346      0.172     -1.941      0.052      -0.672       0.003\n",
       "intercept              2.9385      0.194     15.120      0.000       2.557       3.319\n",
       "==============================================================================\n",
       "Omnibus:                     4442.813   Durbin-Watson:                   1.988\n",
       "Prob(Omnibus):                  0.000   Jarque-Bera (JB):            70387.010\n",
       "Skew:                           2.855   Prob(JB):                         0.00\n",
       "Kurtosis:                      17.564   Cond. No.                         50.8\n",
       "==============================================================================\n",
       "\n",
       "Notes:\n",
       "[1] Standard Errors assume that the covariance matrix of the errors is correctly specified.\n",
       "\"\"\""
      ]
     },
     "execution_count": 98,
     "metadata": {},
     "output_type": "execute_result"
    }
   ],
   "source": [
    "# use linear regression, use groups + country + device + rev_pre to predict rev_post\n",
    "model = sm.OLS(daily_rev['revenue_x'], daily_rev.loc[:, daily_rev.columns!='revenue_x'])\n",
    "result = model.fit()\n",
    "result.summary()"
   ]
  },
  {
   "cell_type": "markdown",
   "metadata": {},
   "source": [
    "__we can see from the regression results that revenue_y and groups_x_treatment variables are not significant! given the chart above__"
   ]
  },
  {
   "cell_type": "code",
   "execution_count": 99,
   "metadata": {},
   "outputs": [
    {
     "data": {
      "text/plain": [
       "Ttest_indResult(statistic=-2.0598871796374603, pvalue=0.03944770277428493)"
      ]
     },
     "execution_count": 99,
     "metadata": {},
     "output_type": "execute_result"
    }
   ],
   "source": [
    "# Diff-in-Diff t test\n",
    "scipy.stats.ttest_ind(np.array(daily_rev.loc[daily_rev.groups_x_treatment==1, :].apply(lambda row: row['revenue_x'] - row['revenue_y'], axis=1)), \n",
    "                      np.array(daily_rev.loc[daily_rev.groups_x_treatment==0, :].apply(lambda row: row['revenue_x'] - row['revenue_y'], axis=1)), \n",
    "                      equal_var = False)\n",
    "# null hypothesis: true difference in means is equal to 0;\n",
    "# alternative hypothesis: true difference in means is not equal to 0; - Checked!"
   ]
  },
  {
   "cell_type": "markdown",
   "metadata": {},
   "source": [
    "__we can see from the diff-in-diff t test that the pure changes differ from control group and treatment group;__"
   ]
  },
  {
   "cell_type": "markdown",
   "metadata": {},
   "source": [
    "### 7. Cohort Analysis: Learning Effect"
   ]
  },
  {
   "cell_type": "markdown",
   "metadata": {},
   "source": [
    "Using cohort analysis, we try to understand the __change over time__. In total, 14 dates, 4th day start, line chart with CI by date; This part we go back and focus on __CTR__."
   ]
  },
  {
   "cell_type": "code",
   "execution_count": 115,
   "metadata": {},
   "outputs": [],
   "source": [
    "# Look at users enrolled on day 4\n",
    "day4User = dat_aft.loc[dat_aft.date=='2017-05-11', 'userid']\n",
    "d4 = dat_aft.loc[dat_aft.userid.isin(day4User),:]"
   ]
  },
  {
   "cell_type": "code",
   "execution_count": 131,
   "metadata": {},
   "outputs": [
    {
     "data": {
      "text/html": [
       "<div>\n",
       "<style scoped>\n",
       "    .dataframe tbody tr th:only-of-type {\n",
       "        vertical-align: middle;\n",
       "    }\n",
       "\n",
       "    .dataframe tbody tr th {\n",
       "        vertical-align: top;\n",
       "    }\n",
       "\n",
       "    .dataframe thead th {\n",
       "        text-align: right;\n",
       "    }\n",
       "</style>\n",
       "<table border=\"1\" class=\"dataframe\">\n",
       "  <thead>\n",
       "    <tr style=\"text-align: right;\">\n",
       "      <th></th>\n",
       "      <th>userid</th>\n",
       "      <th>country</th>\n",
       "      <th>groups</th>\n",
       "      <th>deviceid</th>\n",
       "      <th>device</th>\n",
       "      <th>sellerid</th>\n",
       "      <th>itemid</th>\n",
       "      <th>date</th>\n",
       "      <th>views</th>\n",
       "      <th>clicks</th>\n",
       "      <th>revenue</th>\n",
       "      <th>Deficit</th>\n",
       "      <th>nullUser</th>\n",
       "      <th>mixAssign</th>\n",
       "      <th>mulUser</th>\n",
       "      <th>mulDev</th>\n",
       "    </tr>\n",
       "  </thead>\n",
       "  <tbody>\n",
       "    <tr>\n",
       "      <th>7</th>\n",
       "      <td>2142.0</td>\n",
       "      <td>CA</td>\n",
       "      <td>treatment</td>\n",
       "      <td>11734</td>\n",
       "      <td>Ios</td>\n",
       "      <td>118</td>\n",
       "      <td>1245</td>\n",
       "      <td>2017-05-12</td>\n",
       "      <td>6</td>\n",
       "      <td>0</td>\n",
       "      <td>0.0</td>\n",
       "      <td>0</td>\n",
       "      <td>0</td>\n",
       "      <td>0</td>\n",
       "      <td>0</td>\n",
       "      <td>0</td>\n",
       "    </tr>\n",
       "    <tr>\n",
       "      <th>11</th>\n",
       "      <td>5248.0</td>\n",
       "      <td>GB</td>\n",
       "      <td>control</td>\n",
       "      <td>9356</td>\n",
       "      <td>Android</td>\n",
       "      <td>321</td>\n",
       "      <td>2074</td>\n",
       "      <td>2017-05-12</td>\n",
       "      <td>4</td>\n",
       "      <td>0</td>\n",
       "      <td>0.0</td>\n",
       "      <td>0</td>\n",
       "      <td>0</td>\n",
       "      <td>0</td>\n",
       "      <td>0</td>\n",
       "      <td>0</td>\n",
       "    </tr>\n",
       "    <tr>\n",
       "      <th>15</th>\n",
       "      <td>6491.0</td>\n",
       "      <td>CA</td>\n",
       "      <td>control</td>\n",
       "      <td>15372</td>\n",
       "      <td>Ios</td>\n",
       "      <td>155</td>\n",
       "      <td>2736</td>\n",
       "      <td>2017-05-13</td>\n",
       "      <td>8</td>\n",
       "      <td>0</td>\n",
       "      <td>0.0</td>\n",
       "      <td>0</td>\n",
       "      <td>0</td>\n",
       "      <td>0</td>\n",
       "      <td>0</td>\n",
       "      <td>0</td>\n",
       "    </tr>\n",
       "    <tr>\n",
       "      <th>18</th>\n",
       "      <td>1335.0</td>\n",
       "      <td>US</td>\n",
       "      <td>control</td>\n",
       "      <td>18944</td>\n",
       "      <td>Ios</td>\n",
       "      <td>210</td>\n",
       "      <td>1046</td>\n",
       "      <td>2017-05-21</td>\n",
       "      <td>3</td>\n",
       "      <td>0</td>\n",
       "      <td>0.0</td>\n",
       "      <td>0</td>\n",
       "      <td>0</td>\n",
       "      <td>0</td>\n",
       "      <td>0</td>\n",
       "      <td>0</td>\n",
       "    </tr>\n",
       "    <tr>\n",
       "      <th>20</th>\n",
       "      <td>1233.0</td>\n",
       "      <td>CA</td>\n",
       "      <td>control</td>\n",
       "      <td>11974</td>\n",
       "      <td>Ios</td>\n",
       "      <td>226</td>\n",
       "      <td>2313</td>\n",
       "      <td>2017-05-15</td>\n",
       "      <td>9</td>\n",
       "      <td>4</td>\n",
       "      <td>0.0</td>\n",
       "      <td>0</td>\n",
       "      <td>0</td>\n",
       "      <td>0</td>\n",
       "      <td>0</td>\n",
       "      <td>0</td>\n",
       "    </tr>\n",
       "  </tbody>\n",
       "</table>\n",
       "</div>"
      ],
      "text/plain": [
       "    userid country     groups  deviceid   device  sellerid  itemid       date  \\\n",
       "7   2142.0      CA  treatment     11734      Ios       118    1245 2017-05-12   \n",
       "11  5248.0      GB    control      9356  Android       321    2074 2017-05-12   \n",
       "15  6491.0      CA    control     15372      Ios       155    2736 2017-05-13   \n",
       "18  1335.0      US    control     18944      Ios       210    1046 2017-05-21   \n",
       "20  1233.0      CA    control     11974      Ios       226    2313 2017-05-15   \n",
       "\n",
       "    views  clicks  revenue  Deficit  nullUser  mixAssign  mulUser  mulDev  \n",
       "7       6       0      0.0        0         0          0        0       0  \n",
       "11      4       0      0.0        0         0          0        0       0  \n",
       "15      8       0      0.0        0         0          0        0       0  \n",
       "18      3       0      0.0        0         0          0        0       0  \n",
       "20      9       4      0.0        0         0          0        0       0  "
      ]
     },
     "execution_count": 131,
     "metadata": {},
     "output_type": "execute_result"
    }
   ],
   "source": [
    "d4.head()"
   ]
  },
  {
   "cell_type": "code",
   "execution_count": null,
   "metadata": {},
   "outputs": [],
   "source": []
  },
  {
   "cell_type": "code",
   "execution_count": 130,
   "metadata": {},
   "outputs": [
    {
     "data": {
      "text/html": [
       "<div>\n",
       "<style scoped>\n",
       "    .dataframe tbody tr th:only-of-type {\n",
       "        vertical-align: middle;\n",
       "    }\n",
       "\n",
       "    .dataframe tbody tr th {\n",
       "        vertical-align: top;\n",
       "    }\n",
       "\n",
       "    .dataframe thead th {\n",
       "        text-align: right;\n",
       "    }\n",
       "</style>\n",
       "<table border=\"1\" class=\"dataframe\">\n",
       "  <thead>\n",
       "    <tr style=\"text-align: right;\">\n",
       "      <th></th>\n",
       "      <th>chi2 test statistics</th>\n",
       "      <th>P-value</th>\n",
       "      <th>DF</th>\n",
       "    </tr>\n",
       "    <tr>\n",
       "      <th>date</th>\n",
       "      <th></th>\n",
       "      <th></th>\n",
       "      <th></th>\n",
       "    </tr>\n",
       "  </thead>\n",
       "  <tbody>\n",
       "    <tr>\n",
       "      <th>2017-05-11</th>\n",
       "      <td>2.960843</td>\n",
       "      <td>0.085303</td>\n",
       "      <td>1</td>\n",
       "    </tr>\n",
       "    <tr>\n",
       "      <th>2017-05-12</th>\n",
       "      <td>0.125525</td>\n",
       "      <td>0.723117</td>\n",
       "      <td>1</td>\n",
       "    </tr>\n",
       "    <tr>\n",
       "      <th>2017-05-13</th>\n",
       "      <td>0.569108</td>\n",
       "      <td>0.450613</td>\n",
       "      <td>1</td>\n",
       "    </tr>\n",
       "    <tr>\n",
       "      <th>2017-05-14</th>\n",
       "      <td>0.772734</td>\n",
       "      <td>0.379373</td>\n",
       "      <td>1</td>\n",
       "    </tr>\n",
       "    <tr>\n",
       "      <th>2017-05-15</th>\n",
       "      <td>0.457472</td>\n",
       "      <td>0.498808</td>\n",
       "      <td>1</td>\n",
       "    </tr>\n",
       "    <tr>\n",
       "      <th>2017-05-16</th>\n",
       "      <td>0.474230</td>\n",
       "      <td>0.491048</td>\n",
       "      <td>1</td>\n",
       "    </tr>\n",
       "    <tr>\n",
       "      <th>2017-05-17</th>\n",
       "      <td>1.042728</td>\n",
       "      <td>0.307188</td>\n",
       "      <td>1</td>\n",
       "    </tr>\n",
       "    <tr>\n",
       "      <th>2017-05-18</th>\n",
       "      <td>0.764076</td>\n",
       "      <td>0.382056</td>\n",
       "      <td>1</td>\n",
       "    </tr>\n",
       "    <tr>\n",
       "      <th>2017-05-19</th>\n",
       "      <td>2.227362</td>\n",
       "      <td>0.135585</td>\n",
       "      <td>1</td>\n",
       "    </tr>\n",
       "    <tr>\n",
       "      <th>2017-05-20</th>\n",
       "      <td>2.110469</td>\n",
       "      <td>0.146294</td>\n",
       "      <td>1</td>\n",
       "    </tr>\n",
       "    <tr>\n",
       "      <th>2017-05-21</th>\n",
       "      <td>0.000223</td>\n",
       "      <td>0.988094</td>\n",
       "      <td>1</td>\n",
       "    </tr>\n",
       "  </tbody>\n",
       "</table>\n",
       "</div>"
      ],
      "text/plain": [
       "            chi2 test statistics   P-value  DF\n",
       "date                                          \n",
       "2017-05-11              2.960843  0.085303   1\n",
       "2017-05-12              0.125525  0.723117   1\n",
       "2017-05-13              0.569108  0.450613   1\n",
       "2017-05-14              0.772734  0.379373   1\n",
       "2017-05-15              0.457472  0.498808   1\n",
       "2017-05-16              0.474230  0.491048   1\n",
       "2017-05-17              1.042728  0.307188   1\n",
       "2017-05-18              0.764076  0.382056   1\n",
       "2017-05-19              2.227362  0.135585   1\n",
       "2017-05-20              2.110469  0.146294   1\n",
       "2017-05-21              0.000223  0.988094   1"
      ]
     },
     "execution_count": 130,
     "metadata": {},
     "output_type": "execute_result"
    }
   ],
   "source": [
    "# 取第四天的userids,从第四天开始一天天iterate (观察第四天的userid行为)\n",
    "# iterate through values in dates\n",
    "# country\n",
    "test_by_date = list()\n",
    "for i in dat_aft['date'].unique():\n",
    "    test_by_date.append([i]+list(test_by_subgroup(d4, 'date', i))[0:3])\n",
    "# convert list to pandas for viz\n",
    "test_by_date = pd.DataFrame(test_by_date, columns = ['date', 'chi2 test statistics', 'P-value', 'DF'])\n",
    "test_by_date.set_index('date', inplace = True)\n",
    "test_by_date.sort_index(inplace = True)\n",
    "test_by_date"
   ]
  },
  {
   "cell_type": "markdown",
   "metadata": {},
   "source": [
    "We can see from the __cohort analysis__, there is no significantly __learning effect__ in this problem. We can dive deep into more granular subgroups below: <br>\n",
    "    * date + country <br>\n",
    "    * date + device <br> \n",
    "    * dete + country + device <br>"
   ]
  },
  {
   "cell_type": "markdown",
   "metadata": {},
   "source": [
    "### 8. Notes:"
   ]
  },
  {
   "cell_type": "markdown",
   "metadata": {},
   "source": [
    "This is a tutorial on how to approach a problem in A/B testing. I am writing this for myself. So whenever I run into some new scenarios, I can directly go back to my own post as I am more familiar. Please let me know if there is any problem about the context. We can touchbase on these."
   ]
  }
 ],
 "metadata": {
  "kernelspec": {
   "display_name": "Python 3",
   "language": "python",
   "name": "python3"
  },
  "language_info": {
   "codemirror_mode": {
    "name": "ipython",
    "version": 3
   },
   "file_extension": ".py",
   "mimetype": "text/x-python",
   "name": "python",
   "nbconvert_exporter": "python",
   "pygments_lexer": "ipython3",
   "version": "3.8.1"
  }
 },
 "nbformat": 4,
 "nbformat_minor": 2
}
